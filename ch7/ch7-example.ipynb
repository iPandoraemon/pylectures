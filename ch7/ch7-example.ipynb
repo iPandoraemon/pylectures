{
 "cells": [
  {
   "cell_type": "markdown",
   "id": "886c8e1c-13e6-4df0-b540-6485e4dfdf9a",
   "metadata": {},
   "source": [
    "# 7.3 应用举例"
   ]
  },
  {
   "cell_type": "markdown",
   "id": "ad9a921d-06c3-4123-a9a5-71698ca3e550",
   "metadata": {},
   "source": [
    "## 例子1：字母频次统计问题\n",
    "\n",
    "要求：输入一段英文句子，统计其中不区分大小写的各字母的个数，\n",
    "\n",
    "并按照字母顺序显示出来。\n"
   ]
  },
  {
   "cell_type": "code",
   "execution_count": 1,
   "id": "238010ab-4806-4d1c-b3bd-b010e3ad3dce",
   "metadata": {},
   "outputs": [
    {
     "name": "stdin",
     "output_type": "stream",
     "text": [
      " I love China! Love, Love.\n"
     ]
    },
    {
     "name": "stdout",
     "output_type": "stream",
     "text": [
      "A:1\n",
      "C:1\n",
      "E:3\n",
      "H:1\n",
      "I:2\n",
      "L:3\n",
      "N:1\n",
      "O:3\n",
      "V:3\n"
     ]
    }
   ],
   "source": [
    "letter= {}             # {字母:次数,....}\n",
    "line=input().upper()   # 输入字符串并转换成大写\n",
    "\n",
    "for c in line:         # 统计字母的频次\n",
    "    if c.isalpha():    # 字母字符判断\n",
    "        letter[c]= letter.get(c,0)+1\n",
    "        \n",
    "letterList=sorted(letter.items())  # 排序生成列表\n",
    "\n",
    "for t in letterList:   # 元素为键值对元组的列表\n",
    "    print(t[0]+\":\"+str(t[1]))\n"
   ]
  },
  {
   "cell_type": "markdown",
   "id": "40821bee-50a0-4d86-b4c4-a76a6ee919ef",
   "metadata": {},
   "source": [
    "## 例子2：不重复随机数生成\n",
    "\n",
    "要求：生成10个在[0,20]范围的不重复的随机数。\n"
   ]
  },
  {
   "cell_type": "code",
   "execution_count": 5,
   "id": "ed8dc964-354d-4d2e-9e7b-1cd17debc172",
   "metadata": {},
   "outputs": [
    {
     "name": "stdout",
     "output_type": "stream",
     "text": [
      "{0, 1, 3, 6, 9, 11, 13, 14, 15, 20}\n"
     ]
    }
   ],
   "source": [
    "from random import randint\n",
    "\n",
    "s = set()                   # 使用集合确保不重复\n",
    "while True:                 # 恒真条件循环\n",
    "    n = randint(0, 20)      # 生成一个随机数\n",
    "    s.add(n)                # 将该数加入集合\n",
    "    if len(s) == 10:        # 够10个就终止循环      \n",
    "        break\n",
    "print(s)\n"
   ]
  },
  {
   "cell_type": "markdown",
   "id": "cc94c837-8737-4d9b-a37e-df63fa7b47f7",
   "metadata": {},
   "source": [
    "## 例子3：成绩等级人数统计\n",
    "\n",
    "要求：分类统计出成绩优、良、中、及格和不及格的人数。\n"
   ]
  },
  {
   "cell_type": "code",
   "execution_count": 10,
   "id": "eaf0a0d0-e8e6-457c-9588-c6f710b4af63",
   "metadata": {},
   "outputs": [
    {
     "name": "stdout",
     "output_type": "stream",
     "text": [
      "统计结果:\n",
      "优秀:6人\n",
      "良好:4人\n",
      "中等:2人\n",
      "及格:3人\n",
      "被挂:35人\n"
     ]
    }
   ],
   "source": [
    "from random import randint\n",
    "\n",
    "# 随机生成50个0到100之间的随机整数\n",
    "marks = [randint(0, 100) for i in range(50) ]\n",
    "\n",
    "# 设置评分等级\n",
    "rank = {'优秀': 0, '良好': 0, '中等': 0, '及格': 0, '被挂': 0} \n",
    "\n",
    "# 统计\n",
    "for item in marks:\n",
    "    if item >= 90:\n",
    "        rank['优秀'] = rank['优秀'] + 1\n",
    "    elif item >= 80:\n",
    "        rank['良好'] = rank['良好'] + 1\n",
    "    elif item >= 70:\n",
    "        rank['中等'] = rank['中等'] + 1\n",
    "    elif item >= 60:\n",
    "        rank['及格'] = rank['及格'] + 1\n",
    "    else:\n",
    "        rank['被挂'] = rank['被挂'] + 1\n",
    "\n",
    "# 打印统计结果\n",
    "print(\"统计结果:\")\n",
    "for t in rank.items():\n",
    "    print('%s:%d人'%(t[0],t[1]))\n"
   ]
  },
  {
   "cell_type": "markdown",
   "id": "e420ee3c-8044-4c7f-bf87-b8953724c935",
   "metadata": {},
   "source": [
    "## 例子4:北京冬奥参赛数据统计\n",
    "\n",
    "输入北京冬奥三场比赛的参赛选手编号，分别统计并输出参加3场、2场、1场比赛的选手编号。"
   ]
  },
  {
   "cell_type": "code",
   "execution_count": 11,
   "id": "9f157305-a288-47bd-af2a-12f627fbd7bb",
   "metadata": {},
   "outputs": [
    {
     "name": "stdout",
     "output_type": "stream",
     "text": [
      "输入参赛选手信息\n"
     ]
    },
    {
     "name": "stdin",
     "output_type": "stream",
     "text": [
      "第一场比赛: 1,2,3,4,5\n",
      "第二场比赛: 2,4,7,8\n",
      "第三场比赛:: 2,3,4,5,9\n"
     ]
    },
    {
     "name": "stdout",
     "output_type": "stream",
     "text": [
      "参加三场比赛的选手:[2, 4]\n",
      "参加两场比赛的选手:[3, 5]\n",
      "参加一场比赛的选手:[1, 7, 8, 9]\n"
     ]
    }
   ],
   "source": [
    "# 输入数据\n",
    "print(\"输入参赛选手信息\")\n",
    "c1=set(eval(input(\"第一场比赛:\")))\n",
    "c2=set(eval(input(\"第二场比赛:\")))\n",
    "c3=set(eval(input(\"第三场比赛::\")))\n",
    "\n",
    "# 统计\n",
    "h3= c1 & c2 & c3                  # 三场比赛\n",
    "h2= ((c1&c2)|(c1&c3)|(c2&c3))-h3  # 两场比赛\n",
    "h1= (c1|c2|c3)-h2-h3              # 一场比赛\n",
    "\n",
    "# 打印结果\n",
    "print(\"参加三场比赛的选手:\",end=\"\") \n",
    "if h3:\n",
    "    print(sorted(h3))\n",
    "else:\n",
    "    print(\"无\")\n",
    "print(\"参加两场比赛的选手:\",end=\"\")\n",
    "if h2:\n",
    "    print(sorted(h2))\n",
    "else:\n",
    "    print(\"无\")\n",
    "print(\"参加一场比赛的选手:\",end=\"\")\n",
    "if h1:\n",
    "    print(sorted(h1))\n",
    "else:\n",
    "    print(\"无\")\n"
   ]
  }
 ],
 "metadata": {
  "kernelspec": {
   "display_name": "Python 3 (ipykernel)",
   "language": "python",
   "name": "python3"
  },
  "language_info": {
   "codemirror_mode": {
    "name": "ipython",
    "version": 3
   },
   "file_extension": ".py",
   "mimetype": "text/x-python",
   "name": "python",
   "nbconvert_exporter": "python",
   "pygments_lexer": "ipython3",
   "version": "3.9.12"
  }
 },
 "nbformat": 4,
 "nbformat_minor": 5
}
