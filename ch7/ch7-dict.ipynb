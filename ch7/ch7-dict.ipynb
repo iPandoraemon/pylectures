{
 "cells": [
  {
   "cell_type": "markdown",
   "id": "4eb2f9cd-4e00-4021-8927-e5ef29d5bbf0",
   "metadata": {},
   "source": [
    "# 第7章 字典与集合\n",
    "\n",
    "## 7.1 字典\n",
    "\n",
    "### 字典的创建\n",
    "\n",
    "#### 格式一"
   ]
  },
  {
   "cell_type": "code",
   "execution_count": 100,
   "id": "d32c9ad5-2422-4c66-9d35-0f9a1006a0d5",
   "metadata": {},
   "outputs": [
    {
     "data": {
      "text/plain": [
       "{'A': 1, 'B': 'a', 'C': [1, 2, 3], 1: 1, 1.1: 2}"
      ]
     },
     "execution_count": 100,
     "metadata": {},
     "output_type": "execute_result"
    }
   ],
   "source": [
    "d0 = {'A':1, 'B':'a', 'C':[1, 2, 3], 1:1, 1.1:2}\n",
    "d0"
   ]
  },
  {
   "cell_type": "code",
   "execution_count": 101,
   "id": "25918ab3-9b23-419e-b8c2-768d9aee78f0",
   "metadata": {},
   "outputs": [
    {
     "data": {
      "text/plain": [
       "{'A': 2}"
      ]
     },
     "execution_count": 101,
     "metadata": {},
     "output_type": "execute_result"
    }
   ],
   "source": [
    "# 键不可重复\n",
    "d1 = {'A':1, 'A':2}\n",
    "d1"
   ]
  },
  {
   "cell_type": "code",
   "execution_count": 102,
   "id": "5083fb2e-3e5a-4cda-b708-3f2b6d3fad98",
   "metadata": {},
   "outputs": [
    {
     "data": {
      "text/plain": [
       "{1: 1, 1.1: 1, 'a': 1}"
      ]
     },
     "execution_count": 102,
     "metadata": {},
     "output_type": "execute_result"
    }
   ],
   "source": [
    "# 值可重复\n",
    "d2 = {1:1, 1.1:1, 'a':1}\n",
    "d2"
   ]
  },
  {
   "cell_type": "markdown",
   "id": "7787b9ff-ba9d-43b2-b67e-a997dc3dc07d",
   "metadata": {},
   "source": [
    "#### 格式二"
   ]
  },
  {
   "cell_type": "code",
   "execution_count": 103,
   "id": "4ed06f88-5f7d-460e-b667-4e30c1ffcf95",
   "metadata": {},
   "outputs": [
    {
     "data": {
      "text/plain": [
       "{}"
      ]
     },
     "execution_count": 103,
     "metadata": {},
     "output_type": "execute_result"
    }
   ],
   "source": [
    "d1 = dict()\n",
    "d1"
   ]
  },
  {
   "cell_type": "code",
   "execution_count": 104,
   "id": "f910ffb5-1c09-4c9e-af58-5bfb3ef1bb0b",
   "metadata": {},
   "outputs": [
    {
     "data": {
      "text/plain": [
       "{'a': 1, 'b': 's', 'c': [1, 2, 3]}"
      ]
     },
     "execution_count": 104,
     "metadata": {},
     "output_type": "execute_result"
    }
   ],
   "source": [
    "d2 = dict(a=1, b='s', c=[1, 2, 3])\n",
    "d2"
   ]
  },
  {
   "cell_type": "code",
   "execution_count": 105,
   "id": "f59d0df1-a7fc-423c-9eb2-d7c48ebf03e5",
   "metadata": {},
   "outputs": [
    {
     "data": {
      "text/plain": [
       "True"
      ]
     },
     "execution_count": 105,
     "metadata": {},
     "output_type": "execute_result"
    }
   ],
   "source": [
    "# 以下六种方法生成的字典是相同的\n",
    "a = dict(one=1, two=2, three=3)\n",
    "b = {'one': 1, 'two': 2, 'three': 3}\n",
    "c = dict(zip(['one', 'two', 'three'], [1, 2, 3]))\n",
    "d = dict([('two', 2), ('one', 1), ('three', 3)])\n",
    "e = dict({'three': 3, 'one': 1, 'two': 2})\n",
    "f = dict({'one': 1, 'three': 3}, two=2)\n",
    "\n",
    "# 我们判断一下6个字典是否相同\n",
    "a == b == c == d == e == f"
   ]
  },
  {
   "cell_type": "markdown",
   "id": "c4777209-b549-469e-a331-91eac04a96b8",
   "metadata": {},
   "source": [
    "#### 格式三"
   ]
  },
  {
   "cell_type": "code",
   "execution_count": 106,
   "id": "a4f6c1b0-5caa-45d3-bad7-60bc0b73c376",
   "metadata": {},
   "outputs": [
    {
     "data": {
      "text/plain": [
       "{1: None, 2: None, 'a': None, 'bc': None, 'd': None}"
      ]
     },
     "execution_count": 106,
     "metadata": {},
     "output_type": "execute_result"
    }
   ],
   "source": [
    "keys = [1, 2, 'a', 'bc', 'd']\n",
    "d3 = dict.fromkeys(keys)\n",
    "d3"
   ]
  },
  {
   "cell_type": "code",
   "execution_count": 107,
   "id": "d4daa213-95fc-4890-a5dd-647a06fa7f7d",
   "metadata": {},
   "outputs": [
    {
     "data": {
      "text/plain": [
       "{1: 0, 2: 0, 'a': 0, 'bc': 0, 'd': 0}"
      ]
     },
     "execution_count": 107,
     "metadata": {},
     "output_type": "execute_result"
    }
   ],
   "source": [
    "keys = [1, 2, 'a', 'bc', 'd']\n",
    "d4 = dict.fromkeys(keys, 0)\n",
    "d4"
   ]
  },
  {
   "cell_type": "code",
   "execution_count": 108,
   "id": "ac6c6297-057c-4dd4-b543-ec62bb5b788d",
   "metadata": {},
   "outputs": [
    {
     "data": {
      "text/plain": [
       "{1: [1, 2, 3, 4, 5],\n",
       " 2: [1, 2, 3, 4, 5],\n",
       " 'a': [1, 2, 3, 4, 5],\n",
       " 'bc': [1, 2, 3, 4, 5],\n",
       " 'd': [1, 2, 3, 4, 5]}"
      ]
     },
     "execution_count": 108,
     "metadata": {},
     "output_type": "execute_result"
    }
   ],
   "source": [
    "keys = [1, 2, 'a', 'bc', 'd']\n",
    "d5 = dict.fromkeys(keys, [1, 2, 3, 4, 5])\n",
    "d5"
   ]
  },
  {
   "cell_type": "markdown",
   "id": "9859b728-69d5-4dda-8c34-1cc2b82a3f92",
   "metadata": {},
   "source": [
    "### 字典的引用"
   ]
  },
  {
   "cell_type": "code",
   "execution_count": 109,
   "id": "8298f317-e03d-41d1-bc86-4f220b52c8b5",
   "metadata": {},
   "outputs": [
    {
     "data": {
      "text/plain": [
       "{'a': 1, 'b': 's', 'c': [1, 2, 3]}"
      ]
     },
     "execution_count": 109,
     "metadata": {},
     "output_type": "execute_result"
    }
   ],
   "source": [
    "# 已有d0:\n",
    "d0 = dict(a=1, b='s', c=[1, 2, 3])\n",
    "d0"
   ]
  },
  {
   "cell_type": "code",
   "execution_count": 110,
   "id": "d98e0355-3a5e-4a56-a929-a80977629620",
   "metadata": {},
   "outputs": [
    {
     "ename": "TypeError",
     "evalue": "unhashable type: 'dict'",
     "output_type": "error",
     "traceback": [
      "\u001b[0;31m---------------------------------------------------------------------------\u001b[0m",
      "\u001b[0;31mTypeError\u001b[0m                                 Traceback (most recent call last)",
      "Input \u001b[0;32mIn [110]\u001b[0m, in \u001b[0;36m<cell line: 2>\u001b[0;34m()\u001b[0m\n\u001b[1;32m      1\u001b[0m \u001b[38;5;66;03m# 引用c\u001b[39;00m\n\u001b[0;32m----> 2\u001b[0m \u001b[43md0\u001b[49m\u001b[43m[\u001b[49m\u001b[43mc\u001b[49m\u001b[43m]\u001b[49m\n",
      "\u001b[0;31mTypeError\u001b[0m: unhashable type: 'dict'"
     ]
    }
   ],
   "source": [
    "# 引用c\n",
    "d0[c]"
   ]
  },
  {
   "cell_type": "code",
   "execution_count": 111,
   "id": "ac77b07c-70f9-45b3-a67e-311bb4816765",
   "metadata": {},
   "outputs": [
    {
     "data": {
      "text/plain": [
       "[1, 2, 3]"
      ]
     },
     "execution_count": 111,
     "metadata": {},
     "output_type": "execute_result"
    }
   ],
   "source": [
    "d0['c']"
   ]
  },
  {
   "cell_type": "markdown",
   "id": "bae98359-f6ae-4f9d-ac57-64d597a9eb73",
   "metadata": {},
   "source": [
    "### 字典的删除"
   ]
  },
  {
   "cell_type": "code",
   "execution_count": 112,
   "id": "0afc66cb-3d39-49ba-af72-1eab918bf267",
   "metadata": {},
   "outputs": [
    {
     "data": {
      "text/plain": [
       "{'a': 1, 'b': 's', 'c': [1, 2, 3]}"
      ]
     },
     "execution_count": 112,
     "metadata": {},
     "output_type": "execute_result"
    }
   ],
   "source": [
    "# 已有d0:\n",
    "d0 = dict(a=1, b='s', c=[1, 2, 3])\n",
    "d0"
   ]
  },
  {
   "cell_type": "code",
   "execution_count": 113,
   "id": "4fc2b90a-36e9-45d4-8e9c-f336d334272f",
   "metadata": {},
   "outputs": [
    {
     "ename": "NameError",
     "evalue": "name 'd0' is not defined",
     "output_type": "error",
     "traceback": [
      "\u001b[0;31m---------------------------------------------------------------------------\u001b[0m",
      "\u001b[0;31mNameError\u001b[0m                                 Traceback (most recent call last)",
      "Input \u001b[0;32mIn [113]\u001b[0m, in \u001b[0;36m<cell line: 3>\u001b[0;34m()\u001b[0m\n\u001b[1;32m      1\u001b[0m \u001b[38;5;66;03m# 删除\u001b[39;00m\n\u001b[1;32m      2\u001b[0m \u001b[38;5;28;01mdel\u001b[39;00m d0\n\u001b[0;32m----> 3\u001b[0m \u001b[43md0\u001b[49m\n",
      "\u001b[0;31mNameError\u001b[0m: name 'd0' is not defined"
     ]
    }
   ],
   "source": [
    "# 删除\n",
    "del d0\n",
    "d0"
   ]
  },
  {
   "cell_type": "markdown",
   "id": "905e57bc-b3cd-4a09-ac9a-807bd4d1d3a3",
   "metadata": {},
   "source": [
    "#### 字典中元素的删除"
   ]
  },
  {
   "cell_type": "code",
   "execution_count": 114,
   "id": "bfb3bea6-ca4b-4d2d-b469-dc067ad69b21",
   "metadata": {},
   "outputs": [
    {
     "data": {
      "text/plain": [
       "{'a': 1, 'b': 's', 'c': [1, 2, 3]}"
      ]
     },
     "execution_count": 114,
     "metadata": {},
     "output_type": "execute_result"
    }
   ],
   "source": [
    "# 已有d0:\n",
    "d0 = dict(a=1, b='s', c=[1, 2, 3])\n",
    "d0"
   ]
  },
  {
   "cell_type": "code",
   "execution_count": 115,
   "id": "e3779dfc-a8a7-4ca2-9ba9-7712067b6099",
   "metadata": {},
   "outputs": [
    {
     "data": {
      "text/plain": [
       "{'a': 1, 'c': [1, 2, 3]}"
      ]
     },
     "execution_count": 115,
     "metadata": {},
     "output_type": "execute_result"
    }
   ],
   "source": [
    "del d0['b']\n",
    "d0"
   ]
  },
  {
   "cell_type": "markdown",
   "id": "a6657b43-f5b3-4693-860e-e7931269a3e6",
   "metadata": {},
   "source": [
    "### 运算符对字典的操作"
   ]
  },
  {
   "cell_type": "code",
   "execution_count": 116,
   "id": "126e82dc-37c3-4a46-a211-e53c05eaade5",
   "metadata": {},
   "outputs": [
    {
     "data": {
      "text/plain": [
       "{'a': 0, 'b': 1, 'c': 2, 'd': 3, 'e': 4}"
      ]
     },
     "execution_count": 116,
     "metadata": {},
     "output_type": "execute_result"
    }
   ],
   "source": [
    "# 已知d0\n",
    "d0 = dict(a=0, b=1, c=2, d=3, e=4)\n",
    "d0"
   ]
  },
  {
   "cell_type": "code",
   "execution_count": 117,
   "id": "0259fb40-b2b5-4874-8873-ed01a200135e",
   "metadata": {},
   "outputs": [
    {
     "data": {
      "text/plain": [
       "True"
      ]
     },
     "execution_count": 117,
     "metadata": {},
     "output_type": "execute_result"
    }
   ],
   "source": [
    "'a' in d0"
   ]
  },
  {
   "cell_type": "code",
   "execution_count": 118,
   "id": "ee1cce9f-b35f-4c72-b766-7863b6e5a1f2",
   "metadata": {},
   "outputs": [
    {
     "data": {
      "text/plain": [
       "False"
      ]
     },
     "execution_count": 118,
     "metadata": {},
     "output_type": "execute_result"
    }
   ],
   "source": [
    "0 in d0"
   ]
  },
  {
   "cell_type": "markdown",
   "id": "176dc78a-b091-4aca-998e-c64134037696",
   "metadata": {},
   "source": [
    "### 内置函数对字典的操作"
   ]
  },
  {
   "cell_type": "code",
   "execution_count": 119,
   "id": "adda34f1-f340-40cc-ad5c-94e73ae2aa3b",
   "metadata": {},
   "outputs": [
    {
     "data": {
      "text/plain": [
       "{'a': 0, 'b': 1, 'c': 2, 'd': 3, 'e': 4}"
      ]
     },
     "execution_count": 119,
     "metadata": {},
     "output_type": "execute_result"
    }
   ],
   "source": [
    "# 已知d0\n",
    "d0 = dict(a=0, b=1, c=2, d=3, e=4)\n",
    "d0"
   ]
  },
  {
   "cell_type": "code",
   "execution_count": 120,
   "id": "51089ce8-f9fa-45ed-9cca-501616013e76",
   "metadata": {},
   "outputs": [
    {
     "data": {
      "text/plain": [
       "5"
      ]
     },
     "execution_count": 120,
     "metadata": {},
     "output_type": "execute_result"
    }
   ],
   "source": [
    "len(d0)"
   ]
  },
  {
   "cell_type": "code",
   "execution_count": 121,
   "id": "d628b263-6639-406f-b4d4-50567ea911d5",
   "metadata": {},
   "outputs": [
    {
     "data": {
      "text/plain": [
       "'e'"
      ]
     },
     "execution_count": 121,
     "metadata": {},
     "output_type": "execute_result"
    }
   ],
   "source": [
    "max(d0)"
   ]
  },
  {
   "cell_type": "code",
   "execution_count": 122,
   "id": "b49e9ea3-f258-4eb2-8177-d901d0205667",
   "metadata": {},
   "outputs": [
    {
     "data": {
      "text/plain": [
       "'a'"
      ]
     },
     "execution_count": 122,
     "metadata": {},
     "output_type": "execute_result"
    }
   ],
   "source": [
    "min(d0)"
   ]
  },
  {
   "cell_type": "code",
   "execution_count": 123,
   "id": "583a2630-4955-4697-817b-2a227f666505",
   "metadata": {},
   "outputs": [
    {
     "data": {
      "text/plain": [
       "{'c': 0, 'a': 1, 'd': 2, 'e': 3, 'b': 4}"
      ]
     },
     "execution_count": 123,
     "metadata": {},
     "output_type": "execute_result"
    }
   ],
   "source": [
    "# 已知d1\n",
    "d1 = dict(c=0, a=1, d=2, e=3, b=4)\n",
    "d1"
   ]
  },
  {
   "cell_type": "code",
   "execution_count": 124,
   "id": "fe6cf041-6313-49cf-aedc-2196288a31d6",
   "metadata": {},
   "outputs": [
    {
     "data": {
      "text/plain": [
       "['a', 'b', 'c', 'd', 'e']"
      ]
     },
     "execution_count": 124,
     "metadata": {},
     "output_type": "execute_result"
    }
   ],
   "source": [
    "# 对键的排序\n",
    "sorted(d1)"
   ]
  },
  {
   "cell_type": "markdown",
   "id": "a5ac8c3e-0de1-4fac-9991-2f46317dc3a7",
   "metadata": {},
   "source": [
    "## 字典对象的常用方法"
   ]
  },
  {
   "cell_type": "code",
   "execution_count": 125,
   "id": "163e7ee8-1a50-4078-87b6-24872964ea98",
   "metadata": {},
   "outputs": [
    {
     "data": {
      "text/plain": [
       "{'one': 1, 'two': 2, 'three': 3}"
      ]
     },
     "execution_count": 125,
     "metadata": {},
     "output_type": "execute_result"
    }
   ],
   "source": [
    "# 创建一个字典d0\n",
    "d0 = {'one': 1, 'two': 2, 'three': 3}\n",
    "d0"
   ]
  },
  {
   "cell_type": "code",
   "execution_count": 126,
   "id": "f84d6008-89f0-4228-a35d-7e19beadea5f",
   "metadata": {},
   "outputs": [
    {
     "name": "stdout",
     "output_type": "stream",
     "text": [
      "one  two  three  "
     ]
    }
   ],
   "source": [
    "# 返回字典的键名\n",
    "for k in d0.keys():\n",
    "    print(k, end=\"  \")"
   ]
  },
  {
   "cell_type": "code",
   "execution_count": 127,
   "id": "2b471c8f-47f5-4054-af72-d360e5dfdf79",
   "metadata": {},
   "outputs": [
    {
     "name": "stdout",
     "output_type": "stream",
     "text": [
      "1  2  3  "
     ]
    }
   ],
   "source": [
    "# 返回字典的值\n",
    "for v in d0.values():\n",
    "    print(v, end=\"  \")"
   ]
  },
  {
   "cell_type": "code",
   "execution_count": 128,
   "id": "1a32a80e-daa7-4367-a9fb-6d449ea0bc86",
   "metadata": {},
   "outputs": [
    {
     "name": "stdout",
     "output_type": "stream",
     "text": [
      "('one', 1)  ('two', 2)  ('three', 3)  "
     ]
    }
   ],
   "source": [
    "# 查看键值对，返回的是元组！\n",
    "for it in d0.items():\n",
    "    print(it, end=\"  \")"
   ]
  },
  {
   "cell_type": "code",
   "execution_count": 129,
   "id": "4dc2a8b5-4aff-4439-955f-7be91661e0d8",
   "metadata": {},
   "outputs": [
    {
     "data": {
      "text/plain": [
       "{'one': 1, 'two': 2, 'three': 3}"
      ]
     },
     "execution_count": 129,
     "metadata": {},
     "output_type": "execute_result"
    }
   ],
   "source": [
    "# copy字典d0\n",
    "d1=d0.copy()\n",
    "d1"
   ]
  },
  {
   "cell_type": "code",
   "execution_count": 130,
   "id": "7becce01-5570-4768-884e-ff3790235ab3",
   "metadata": {},
   "outputs": [
    {
     "data": {
      "text/plain": [
       "1"
      ]
     },
     "execution_count": 130,
     "metadata": {},
     "output_type": "execute_result"
    }
   ],
   "source": [
    "# 抛出字典d1中一个键为‘one’的键值对：\n",
    "d1.pop('one')"
   ]
  },
  {
   "cell_type": "code",
   "execution_count": 131,
   "id": "9f94085a-8bd4-4188-a86b-a9bdb9709693",
   "metadata": {},
   "outputs": [
    {
     "data": {
      "text/plain": [
       "{'two': 2, 'three': 3}"
      ]
     },
     "execution_count": 131,
     "metadata": {},
     "output_type": "execute_result"
    }
   ],
   "source": [
    "# 此时字典c还有多少键值对？\n",
    "d1"
   ]
  },
  {
   "cell_type": "code",
   "execution_count": 133,
   "id": "9cc5c8e0-6c29-44dc-bcd2-c4a02376420a",
   "metadata": {},
   "outputs": [
    {
     "data": {
      "text/plain": [
       "1"
      ]
     },
     "execution_count": 133,
     "metadata": {},
     "output_type": "execute_result"
    }
   ],
   "source": [
    "# 取一个键名为b的值，如果存在则返回\n",
    "d0.get('one')"
   ]
  },
  {
   "cell_type": "code",
   "execution_count": 137,
   "id": "792ebe16-9f30-4c52-919a-09765ede5b5a",
   "metadata": {},
   "outputs": [],
   "source": [
    "# 取一个键名为b的值，如果不存在则返回什么？\n",
    "d0.get('four')"
   ]
  },
  {
   "cell_type": "code",
   "execution_count": 138,
   "id": "011909f1-5f86-4dbe-b425-ab238991c2ca",
   "metadata": {},
   "outputs": [
    {
     "name": "stdout",
     "output_type": "stream",
     "text": [
      "None\n"
     ]
    }
   ],
   "source": [
    "# 看不到？\n",
    "r = d0.get('four')\n",
    "print(r)"
   ]
  },
  {
   "cell_type": "code",
   "execution_count": 139,
   "id": "38324b58-1640-4272-8c94-88caee2f96e2",
   "metadata": {},
   "outputs": [
    {
     "data": {
      "text/plain": [
       "0"
      ]
     },
     "execution_count": 139,
     "metadata": {},
     "output_type": "execute_result"
    }
   ],
   "source": [
    "# 如果get不到，让它返回一个缺省值0\n",
    "d0.get('four', 0)"
   ]
  },
  {
   "cell_type": "code",
   "execution_count": 140,
   "id": "161a507b-7705-41d0-9921-c0204c855e14",
   "metadata": {},
   "outputs": [
    {
     "data": {
      "text/plain": [
       "'nope'"
      ]
     },
     "execution_count": 140,
     "metadata": {},
     "output_type": "execute_result"
    }
   ],
   "source": [
    "# 也可以是其他值\n",
    "d0.get('four', 'nope')"
   ]
  },
  {
   "cell_type": "code",
   "execution_count": 141,
   "id": "30f0c217-d3e2-407f-8904-7b85d8d2e262",
   "metadata": {},
   "outputs": [
    {
     "name": "stdout",
     "output_type": "stream",
     "text": [
      "one 1\n",
      "two 2\n",
      "three 3\n"
     ]
    }
   ],
   "source": [
    "# 创建一个字典d0\n",
    "d0 = {'one': 1, 'two': 2, 'three': 3}\n",
    "\n",
    "for i,j in d0.items():\n",
    "    print(i,j)"
   ]
  },
  {
   "cell_type": "code",
   "execution_count": 142,
   "id": "d14f57de-7778-465e-b98b-8143a54a2be1",
   "metadata": {},
   "outputs": [
    {
     "data": {
      "text/plain": [
       "3"
      ]
     },
     "execution_count": 142,
     "metadata": {},
     "output_type": "execute_result"
    }
   ],
   "source": [
    "# 从字典d0取出键名为‘four’的值，如果不存在，则添加键值对(‘four’,3)\n",
    "d0.setdefault('four', 3)"
   ]
  },
  {
   "cell_type": "code",
   "execution_count": 143,
   "id": "51f5540d-53ff-4cfa-9109-9bba858376ec",
   "metadata": {},
   "outputs": [
    {
     "data": {
      "text/plain": [
       "{'one': 1, 'two': 2, 'three': 3, 'four': 3}"
      ]
     },
     "execution_count": 143,
     "metadata": {},
     "output_type": "execute_result"
    }
   ],
   "source": [
    "# 此时字典d0\n",
    "d0"
   ]
  },
  {
   "cell_type": "code",
   "execution_count": 144,
   "id": "8145af7b-8099-4437-8903-5d8b0fab1aef",
   "metadata": {},
   "outputs": [
    {
     "data": {
      "text/plain": [
       "3"
      ]
     },
     "execution_count": 144,
     "metadata": {},
     "output_type": "execute_result"
    }
   ],
   "source": [
    "# 从字典d0取出键名为‘three’的值，如果不存在，则添加键值对(‘three’,4)\n",
    "d0.setdefault('three', 4)"
   ]
  },
  {
   "cell_type": "code",
   "execution_count": 145,
   "id": "bdc4e5d8-a1ce-4069-af64-55b5331893d0",
   "metadata": {},
   "outputs": [
    {
     "data": {
      "text/plain": [
       "{'one': 1, 'two': 2, 'three': 3, 'four': 3}"
      ]
     },
     "execution_count": 145,
     "metadata": {},
     "output_type": "execute_result"
    }
   ],
   "source": [
    "# 此时字典d0\n",
    "d0"
   ]
  },
  {
   "cell_type": "code",
   "execution_count": 146,
   "id": "efbf1f7e-1b6b-4f37-83b7-de5e9eaa13c1",
   "metadata": {},
   "outputs": [
    {
     "data": {
      "text/plain": [
       "{'one': 1, 'two': 2, 'three': 3, 'four': 4, 'five': 5}"
      ]
     },
     "execution_count": 146,
     "metadata": {},
     "output_type": "execute_result"
    }
   ],
   "source": [
    "# 用字典d1来更新字典d0:\n",
    "d1 = {'four': 4, 'five': 5}\n",
    "d0.update(d1)\n",
    "d0"
   ]
  },
  {
   "cell_type": "code",
   "execution_count": 147,
   "id": "48e1f372-9101-4cd0-82b3-e0d7b413808f",
   "metadata": {},
   "outputs": [
    {
     "data": {
      "text/plain": [
       "{}"
      ]
     },
     "execution_count": 147,
     "metadata": {},
     "output_type": "execute_result"
    }
   ],
   "source": [
    "# 清楚d1所有键值对\n",
    "d1.clear()\n",
    "d1"
   ]
  },
  {
   "cell_type": "code",
   "execution_count": null,
   "id": "b77be887-2f9c-4626-8e81-4591c6179967",
   "metadata": {},
   "outputs": [],
   "source": []
  }
 ],
 "metadata": {
  "kernelspec": {
   "display_name": "Python 3 (ipykernel)",
   "language": "python",
   "name": "python3"
  },
  "language_info": {
   "codemirror_mode": {
    "name": "ipython",
    "version": 3
   },
   "file_extension": ".py",
   "mimetype": "text/x-python",
   "name": "python",
   "nbconvert_exporter": "python",
   "pygments_lexer": "ipython3",
   "version": "3.9.12"
  }
 },
 "nbformat": 4,
 "nbformat_minor": 5
}
