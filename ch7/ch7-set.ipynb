{
 "cells": [
  {
   "cell_type": "markdown",
   "id": "aa759b8d-16f0-456e-9479-a639fc260e16",
   "metadata": {},
   "source": [
    "# 7.2 集合\n",
    "\n",
    "## 创建"
   ]
  },
  {
   "cell_type": "code",
   "execution_count": 41,
   "id": "e51e71be-3c19-4049-8771-3e3eb1c58893",
   "metadata": {},
   "outputs": [
    {
     "data": {
      "text/plain": [
       "{'a', 'b', 'c'}"
      ]
     },
     "execution_count": 41,
     "metadata": {},
     "output_type": "execute_result"
    }
   ],
   "source": [
    "a = {\"a\", \"b\", \"c\"}\n",
    "a"
   ]
  },
  {
   "cell_type": "code",
   "execution_count": 42,
   "id": "2ffca20e-bec7-4bf5-b876-3ad8b57bda73",
   "metadata": {},
   "outputs": [
    {
     "data": {
      "text/plain": [
       "{0, 1, 2, 3}"
      ]
     },
     "execution_count": 42,
     "metadata": {},
     "output_type": "execute_result"
    }
   ],
   "source": [
    "b = {i for i in range(4)}\n",
    "b"
   ]
  },
  {
   "cell_type": "code",
   "execution_count": 43,
   "id": "9ee8e121-5b63-4bde-9504-f50ab57082b9",
   "metadata": {},
   "outputs": [
    {
     "data": {
      "text/plain": [
       "{'A', 'B', 'C', 'D'}"
      ]
     },
     "execution_count": 43,
     "metadata": {},
     "output_type": "execute_result"
    }
   ],
   "source": [
    "c = set(\"ABCDA\")\n",
    "c"
   ]
  },
  {
   "cell_type": "code",
   "execution_count": 44,
   "id": "4414e5f1-a419-4f7d-a706-3182bf4329a0",
   "metadata": {},
   "outputs": [
    {
     "data": {
      "text/plain": [
       "{1, 2, 3}"
      ]
     },
     "execution_count": 44,
     "metadata": {},
     "output_type": "execute_result"
    }
   ],
   "source": [
    "# 集合元素唯一\n",
    "d=[1,3,2,2,1]\n",
    "e=set(d)\n",
    "e"
   ]
  },
  {
   "cell_type": "code",
   "execution_count": 45,
   "id": "a5ac9436-7d07-4d17-90e5-bb7ebfcc92d6",
   "metadata": {},
   "outputs": [
    {
     "data": {
      "text/plain": [
       "set()"
      ]
     },
     "execution_count": 45,
     "metadata": {},
     "output_type": "execute_result"
    }
   ],
   "source": [
    "# 创建一个空集合\n",
    "f=set()\n",
    "f"
   ]
  },
  {
   "cell_type": "code",
   "execution_count": 46,
   "id": "cf41067f-7670-4bec-8958-c9c436f7b4f8",
   "metadata": {},
   "outputs": [
    {
     "data": {
      "text/plain": [
       "dict"
      ]
     },
     "execution_count": 46,
     "metadata": {},
     "output_type": "execute_result"
    }
   ],
   "source": [
    "# 以下创建的是什么？\n",
    "g = {}\n",
    "type(g)"
   ]
  },
  {
   "cell_type": "markdown",
   "id": "5f49dfde-27a7-4365-bcb2-b0486108e002",
   "metadata": {},
   "source": [
    "## 集合的运算"
   ]
  },
  {
   "cell_type": "code",
   "execution_count": 47,
   "id": "f8d824cc-a6be-4447-9188-f486e8519944",
   "metadata": {},
   "outputs": [],
   "source": [
    "a={1,2,3,4}\n",
    "b={4,5,6}"
   ]
  },
  {
   "cell_type": "code",
   "execution_count": 48,
   "id": "ea0e2c95-c36b-428d-b4c6-a82d6475e269",
   "metadata": {},
   "outputs": [
    {
     "data": {
      "text/plain": [
       "{1, 2, 3, 4, 5, 6}"
      ]
     },
     "execution_count": 48,
     "metadata": {},
     "output_type": "execute_result"
    }
   ],
   "source": [
    "# 求并集\n",
    "a | b"
   ]
  },
  {
   "cell_type": "code",
   "execution_count": 49,
   "id": "f03c6e1d-a350-4e42-ae2a-453080a27259",
   "metadata": {},
   "outputs": [
    {
     "data": {
      "text/plain": [
       "{4}"
      ]
     },
     "execution_count": 49,
     "metadata": {},
     "output_type": "execute_result"
    }
   ],
   "source": [
    "# 求交集\n",
    "a & b"
   ]
  },
  {
   "cell_type": "code",
   "execution_count": 50,
   "id": "c428bb40-544b-422b-9335-86972db5d355",
   "metadata": {},
   "outputs": [
    {
     "data": {
      "text/plain": [
       "{1, 2, 3}"
      ]
     },
     "execution_count": 50,
     "metadata": {},
     "output_type": "execute_result"
    }
   ],
   "source": [
    "# 求差集\n",
    "a - b"
   ]
  },
  {
   "cell_type": "code",
   "execution_count": 51,
   "id": "18b95909-6bda-4d04-aaa2-48145dd14239",
   "metadata": {},
   "outputs": [
    {
     "data": {
      "text/plain": [
       "{1, 2, 3, 5, 6}"
      ]
     },
     "execution_count": 51,
     "metadata": {},
     "output_type": "execute_result"
    }
   ],
   "source": [
    "# 求补集\n",
    "a ^ b"
   ]
  },
  {
   "cell_type": "code",
   "execution_count": 52,
   "id": "920f4a78-ee77-4d1f-8aeb-bc8c71a32137",
   "metadata": {},
   "outputs": [
    {
     "data": {
      "text/plain": [
       "True"
      ]
     },
     "execution_count": 52,
     "metadata": {},
     "output_type": "execute_result"
    }
   ],
   "source": [
    "a = {1, 2, 3}\n",
    "b = {1, 2, 3, 4}\n",
    "c = {1, 2, 3}\n",
    "\n",
    "# 判断a是否为b的子集\n",
    "a <= b"
   ]
  },
  {
   "cell_type": "code",
   "execution_count": 53,
   "id": "75853850-ce6a-4de6-8864-41f105529f63",
   "metadata": {},
   "outputs": [
    {
     "data": {
      "text/plain": [
       "True"
      ]
     },
     "execution_count": 53,
     "metadata": {},
     "output_type": "execute_result"
    }
   ],
   "source": [
    "# 判断a是否为b的真子集\n",
    "a < b"
   ]
  },
  {
   "cell_type": "code",
   "execution_count": 54,
   "id": "3d45938c-75b4-4e78-b965-6f9ee183638b",
   "metadata": {},
   "outputs": [
    {
     "data": {
      "text/plain": [
       "False"
      ]
     },
     "execution_count": 54,
     "metadata": {},
     "output_type": "execute_result"
    }
   ],
   "source": [
    "# 判断a是否为c的真子集\n",
    "a < c"
   ]
  },
  {
   "cell_type": "markdown",
   "id": "f1ac4f44-d748-483c-a6f1-0d39d0e74493",
   "metadata": {},
   "source": [
    "## 集合对象的常用方法"
   ]
  },
  {
   "cell_type": "code",
   "execution_count": null,
   "id": "1857a15b-5282-4081-a4d4-442e7e8cb91b",
   "metadata": {},
   "outputs": [],
   "source": [
    "a={1,2,3,4}\n",
    "a.add(5)\n",
    "a"
   ]
  },
  {
   "cell_type": "code",
   "execution_count": null,
   "id": "4ff8e1d0-bff9-4c6f-99d4-1deff663528c",
   "metadata": {},
   "outputs": [],
   "source": [
    "a.discard(1)\n",
    "a.remove(2)\n",
    "a"
   ]
  },
  {
   "cell_type": "code",
   "execution_count": null,
   "id": "bdf07308-1a0f-4ea2-83e1-80dc7e9e1371",
   "metadata": {},
   "outputs": [],
   "source": [
    "# 再discard一次\n",
    "a.discard(1)\n",
    "a"
   ]
  },
  {
   "cell_type": "code",
   "execution_count": null,
   "id": "20914ae5-7e63-432b-8031-411191c9ad98",
   "metadata": {},
   "outputs": [],
   "source": [
    "# 再remove一次\n",
    "a.remove(2)"
   ]
  },
  {
   "cell_type": "code",
   "execution_count": null,
   "id": "b70b8c86-d443-4abd-985c-b19607a26bc7",
   "metadata": {},
   "outputs": [],
   "source": [
    "# 复制a\n",
    "b=a.copy()\n",
    "\n",
    "# 抛去集合a的一个元素\n",
    "a.pop()\n",
    "\n",
    "# 此时a呢\n",
    "a"
   ]
  },
  {
   "cell_type": "code",
   "execution_count": null,
   "id": "8cb73295-0960-4dfe-9fd8-908be9790c81",
   "metadata": {},
   "outputs": [],
   "source": [
    "# 此时b呢？\n",
    "b"
   ]
  },
  {
   "cell_type": "code",
   "execution_count": null,
   "id": "06b8e068-8041-4d0e-82f0-05b1660bea6b",
   "metadata": {},
   "outputs": [],
   "source": []
  }
 ],
 "metadata": {
  "kernelspec": {
   "display_name": "Python 3 (ipykernel)",
   "language": "python",
   "name": "python3"
  },
  "language_info": {
   "codemirror_mode": {
    "name": "ipython",
    "version": 3
   },
   "file_extension": ".py",
   "mimetype": "text/x-python",
   "name": "python",
   "nbconvert_exporter": "python",
   "pygments_lexer": "ipython3",
   "version": "3.9.12"
  }
 },
 "nbformat": 4,
 "nbformat_minor": 5
}
