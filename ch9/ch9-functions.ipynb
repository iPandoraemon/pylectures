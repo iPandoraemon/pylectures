{
 "cells": [
  {
   "cell_type": "markdown",
   "id": "bbaebcfe-a2a4-4eda-a82f-399f99b8012a",
   "metadata": {},
   "source": [
    "# 第九章 函数与模块\n",
    "\n",
    "## 函数的调用"
   ]
  },
  {
   "cell_type": "code",
   "execution_count": 6,
   "id": "2c0ecc37-c224-4bce-ac9f-6ea16bdf09f2",
   "metadata": {},
   "outputs": [
    {
     "name": "stdout",
     "output_type": "stream",
     "text": [
      "2\n",
      "8\n",
      "17\n"
     ]
    }
   ],
   "source": [
    "def cf(a,b=1,*c):   \n",
    "    s = a**b\n",
    "    for t in c:\n",
    "        s=s+t\n",
    "    return  s\n",
    "\n",
    "print(cf(2))\n",
    "print(cf(2,3))\n",
    "print(cf(2,3,4,5))\n"
   ]
  },
  {
   "cell_type": "markdown",
   "id": "651920e3-aedc-4afe-acca-7f64449a1bc7",
   "metadata": {},
   "source": [
    "## 返回\n",
    "\n",
    "`return` 返回1到多个任意类型的数据对象。\n",
    "\n",
    "p.s. 至少返回一个None"
   ]
  },
  {
   "cell_type": "code",
   "execution_count": 9,
   "id": "6fed4af0-89fe-4e09-ba66-e2e76299d70b",
   "metadata": {},
   "outputs": [
    {
     "name": "stdout",
     "output_type": "stream",
     "text": [
      "None\n",
      "3\n",
      "('Okay', 3)\n"
     ]
    }
   ],
   "source": [
    "def add1(a, b):\n",
    "    s = a+b\n",
    "    return\n",
    "\n",
    "def add2(a, b):\n",
    "    s = a+b\n",
    "    return s\n",
    "\n",
    "def add3(a, b):\n",
    "    s = a+b\n",
    "    return 'Okay', s\n",
    "\n",
    "print(add1(1, 2))\n",
    "print(add2(1, 2))\n",
    "print(add3(1, 2))"
   ]
  },
  {
   "cell_type": "code",
   "execution_count": null,
   "id": "d246c2ea-6304-40dc-96a8-a0c6056b9242",
   "metadata": {},
   "outputs": [],
   "source": []
  }
 ],
 "metadata": {
  "kernelspec": {
   "display_name": "Python 3 (ipykernel)",
   "language": "python",
   "name": "python3"
  },
  "language_info": {
   "codemirror_mode": {
    "name": "ipython",
    "version": 3
   },
   "file_extension": ".py",
   "mimetype": "text/x-python",
   "name": "python",
   "nbconvert_exporter": "python",
   "pygments_lexer": "ipython3",
   "version": "3.9.12"
  }
 },
 "nbformat": 4,
 "nbformat_minor": 5
}
