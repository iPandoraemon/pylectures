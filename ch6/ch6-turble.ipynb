{
 "cells": [
  {
   "cell_type": "markdown",
   "id": "bb213452-8798-406d-9e1b-13c194fd5c83",
   "metadata": {},
   "source": [
    "# 元组 Tuple"
   ]
  },
  {
   "cell_type": "markdown",
   "id": "b669fe07-418a-41f9-a9d9-b5a6eb04d325",
   "metadata": {},
   "source": [
    "## 创建\n",
    "\n",
    "### 格式一"
   ]
  },
  {
   "cell_type": "code",
   "execution_count": 10,
   "id": "53bed700-ba09-4c73-b87d-2fc3781f4166",
   "metadata": {},
   "outputs": [
    {
     "data": {
      "text/plain": [
       "(1, 2, 3)"
      ]
     },
     "execution_count": 10,
     "metadata": {},
     "output_type": "execute_result"
    }
   ],
   "source": [
    "t0 = (1, 2, 3)\n",
    "t0"
   ]
  },
  {
   "cell_type": "code",
   "execution_count": 11,
   "id": "b675e1a9-2cc7-4c74-b7f5-88e98b99a1c3",
   "metadata": {},
   "outputs": [
    {
     "data": {
      "text/plain": [
       "(0, 1, [2, 3])"
      ]
     },
     "execution_count": 11,
     "metadata": {},
     "output_type": "execute_result"
    }
   ],
   "source": [
    "t1 = (0, 1, [2, 3])\n",
    "t1"
   ]
  },
  {
   "cell_type": "code",
   "execution_count": 12,
   "id": "d8ac4452-6e52-4bfb-a0ed-e8aaa38c83ae",
   "metadata": {},
   "outputs": [
    {
     "data": {
      "text/plain": [
       "(0, [1, 2], 'a', 'ABC')"
      ]
     },
     "execution_count": 12,
     "metadata": {},
     "output_type": "execute_result"
    }
   ],
   "source": [
    "t2 = (0, [1, 2], 'a', 'ABC')\n",
    "t2"
   ]
  },
  {
   "cell_type": "code",
   "execution_count": 13,
   "id": "4a2540ea-8f71-4918-874e-f7c6d90f3f56",
   "metadata": {},
   "outputs": [
    {
     "data": {
      "text/plain": [
       "3"
      ]
     },
     "execution_count": 13,
     "metadata": {},
     "output_type": "execute_result"
    }
   ],
   "source": [
    "t3 = (1)*3   # 注意：不是元组哦！\n",
    "t3"
   ]
  },
  {
   "cell_type": "code",
   "execution_count": 14,
   "id": "1a458a41-fb98-4bf0-9376-c4cf297355a2",
   "metadata": {},
   "outputs": [
    {
     "data": {
      "text/plain": [
       "int"
      ]
     },
     "execution_count": 14,
     "metadata": {},
     "output_type": "execute_result"
    }
   ],
   "source": [
    "type(t3)"
   ]
  },
  {
   "cell_type": "code",
   "execution_count": 15,
   "id": "9ef6f8b7-a98e-448e-9f6f-dce57a81e39a",
   "metadata": {},
   "outputs": [
    {
     "data": {
      "text/plain": [
       "(1, 1, 1)"
      ]
     },
     "execution_count": 15,
     "metadata": {},
     "output_type": "execute_result"
    }
   ],
   "source": [
    "t4 = (1, )*3\n",
    "t4"
   ]
  },
  {
   "cell_type": "code",
   "execution_count": 16,
   "id": "bfd55412-d30b-4639-98cf-ebdd4b8aacfd",
   "metadata": {},
   "outputs": [
    {
     "data": {
      "text/plain": [
       "tuple"
      ]
     },
     "execution_count": 16,
     "metadata": {},
     "output_type": "execute_result"
    }
   ],
   "source": [
    "type(t4)"
   ]
  },
  {
   "cell_type": "markdown",
   "id": "bf651ef6-5746-47ec-a147-f910eb18c62b",
   "metadata": {},
   "source": [
    "### 格式二"
   ]
  },
  {
   "cell_type": "code",
   "execution_count": 7,
   "id": "6a9f5636-d23a-46e1-a664-a8ba5068955c",
   "metadata": {},
   "outputs": [
    {
     "data": {
      "text/plain": [
       "()"
      ]
     },
     "execution_count": 7,
     "metadata": {},
     "output_type": "execute_result"
    }
   ],
   "source": [
    "t0 = tuple()\n",
    "t0"
   ]
  },
  {
   "cell_type": "code",
   "execution_count": 18,
   "id": "71ef7fa2-e68e-4752-8f20-abd39882bd6b",
   "metadata": {},
   "outputs": [
    {
     "data": {
      "text/plain": [
       "('A', 'B', 'C', 'D')"
      ]
     },
     "execution_count": 18,
     "metadata": {},
     "output_type": "execute_result"
    }
   ],
   "source": [
    "t1 = tuple(\"ABCD\")\n",
    "t1"
   ]
  },
  {
   "cell_type": "code",
   "execution_count": 2,
   "id": "8feeca1d-acc6-4c39-a8b4-58d6aa0cb03b",
   "metadata": {},
   "outputs": [
    {
     "data": {
      "text/plain": [
       "(0, 1, 2, 3, 4, 5, 6, 7, 8, 9)"
      ]
     },
     "execution_count": 2,
     "metadata": {},
     "output_type": "execute_result"
    }
   ],
   "source": [
    "t2 = tuple([i for i in range(10)])\n",
    "t2"
   ]
  },
  {
   "cell_type": "code",
   "execution_count": 3,
   "id": "b011d58e-ab97-4aa3-987c-35bfc28cdba5",
   "metadata": {},
   "outputs": [
    {
     "data": {
      "text/plain": [
       "(0, 1, 2, 3, 4, 5, 6, 7, 8, 9)"
      ]
     },
     "execution_count": 3,
     "metadata": {},
     "output_type": "execute_result"
    }
   ],
   "source": [
    "t3 = tuple(i for i in range(10))\n",
    "t3"
   ]
  },
  {
   "cell_type": "markdown",
   "id": "e3deb12d-aa28-4c21-8aa9-12c3b1988b04",
   "metadata": {},
   "source": [
    "## 元组的引用"
   ]
  },
  {
   "cell_type": "code",
   "execution_count": 21,
   "id": "4564565e-271d-4c08-94f9-ca4b2d121020",
   "metadata": {},
   "outputs": [
    {
     "data": {
      "text/plain": [
       "(0, 1, 2, 3, 4, 5, 6, 7, 8, 9)"
      ]
     },
     "execution_count": 21,
     "metadata": {},
     "output_type": "execute_result"
    }
   ],
   "source": [
    "t0 = tuple([i for i in range(10)])\n",
    "t0"
   ]
  },
  {
   "cell_type": "code",
   "execution_count": 22,
   "id": "9581f91f-b093-4a42-bce1-7dfa2de46068",
   "metadata": {},
   "outputs": [
    {
     "data": {
      "text/plain": [
       "2"
      ]
     },
     "execution_count": 22,
     "metadata": {},
     "output_type": "execute_result"
    }
   ],
   "source": [
    "t0[2]"
   ]
  },
  {
   "cell_type": "code",
   "execution_count": 23,
   "id": "65d4213d-e04a-4e46-a184-170ed39e9cd6",
   "metadata": {},
   "outputs": [
    {
     "data": {
      "text/plain": [
       "9"
      ]
     },
     "execution_count": 23,
     "metadata": {},
     "output_type": "execute_result"
    }
   ],
   "source": [
    "t0[-1]"
   ]
  },
  {
   "cell_type": "code",
   "execution_count": 25,
   "id": "0f042487-f3eb-4a11-a196-59251c4c922f",
   "metadata": {},
   "outputs": [
    {
     "data": {
      "text/plain": [
       "(4, 5, 6, 7, 8, 9)"
      ]
     },
     "execution_count": 25,
     "metadata": {},
     "output_type": "execute_result"
    }
   ],
   "source": [
    "t0[4:]"
   ]
  },
  {
   "cell_type": "code",
   "execution_count": 33,
   "id": "f2348760-b077-45bd-b15d-a1533cf30392",
   "metadata": {},
   "outputs": [
    {
     "data": {
      "text/plain": [
       "(5, 6, 7, 8)"
      ]
     },
     "execution_count": 33,
     "metadata": {},
     "output_type": "execute_result"
    }
   ],
   "source": [
    "t0[-5:-1]"
   ]
  },
  {
   "cell_type": "code",
   "execution_count": 36,
   "id": "a965ed30-e880-488f-bdcc-db4e00ed80fe",
   "metadata": {},
   "outputs": [
    {
     "data": {
      "text/plain": [
       "(5, 6, 7, 8, 9)"
      ]
     },
     "execution_count": 36,
     "metadata": {},
     "output_type": "execute_result"
    }
   ],
   "source": [
    "t0[-5:]"
   ]
  },
  {
   "cell_type": "markdown",
   "id": "9dd4d49a-a8af-4876-afb3-d0210c2290a8",
   "metadata": {},
   "source": [
    "## 元组的删除"
   ]
  },
  {
   "cell_type": "code",
   "execution_count": 38,
   "id": "4cdd6268-1b77-4cf0-9c0b-4f7aea3326ca",
   "metadata": {},
   "outputs": [
    {
     "data": {
      "text/plain": [
       "(0, 1, 2, 3, 4, 5, 6, 7, 8, 9)"
      ]
     },
     "execution_count": 38,
     "metadata": {},
     "output_type": "execute_result"
    }
   ],
   "source": [
    "t0 = tuple([i for i in range(10)])\n",
    "t0"
   ]
  },
  {
   "cell_type": "code",
   "execution_count": 39,
   "id": "6f420603-9636-4a43-844f-cf33fe2dadf1",
   "metadata": {},
   "outputs": [
    {
     "ename": "NameError",
     "evalue": "name 't0' is not defined",
     "output_type": "error",
     "traceback": [
      "\u001b[0;31m---------------------------------------------------------------------------\u001b[0m",
      "\u001b[0;31mNameError\u001b[0m                                 Traceback (most recent call last)",
      "Input \u001b[0;32mIn [39]\u001b[0m, in \u001b[0;36m<cell line: 2>\u001b[0;34m()\u001b[0m\n\u001b[1;32m      1\u001b[0m \u001b[38;5;28;01mdel\u001b[39;00m t0\n\u001b[0;32m----> 2\u001b[0m \u001b[43mt0\u001b[49m\n",
      "\u001b[0;31mNameError\u001b[0m: name 't0' is not defined"
     ]
    }
   ],
   "source": [
    "del t0\n",
    "t0"
   ]
  },
  {
   "cell_type": "markdown",
   "id": "093e2669-1c42-4ae5-b86a-7ea3c624d692",
   "metadata": {},
   "source": []
  }
 ],
 "metadata": {
  "kernelspec": {
   "display_name": "Python 3 (ipykernel)",
   "language": "python",
   "name": "python3"
  },
  "language_info": {
   "codemirror_mode": {
    "name": "ipython",
    "version": 3
   },
   "file_extension": ".py",
   "mimetype": "text/x-python",
   "name": "python",
   "nbconvert_exporter": "python",
   "pygments_lexer": "ipython3",
   "version": "3.9.12"
  }
 },
 "nbformat": 4,
 "nbformat_minor": 5
}
