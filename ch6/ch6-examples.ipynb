{
 "cells": [
  {
   "cell_type": "markdown",
   "id": "34cce603-1588-444b-8faa-07193528ad49",
   "metadata": {},
   "source": [
    "# 应用举例\n",
    "\n",
    "## 例题1: 求列表的平均值及大于平均值的列表元素。 "
   ]
  },
  {
   "cell_type": "code",
   "execution_count": 3,
   "id": "ad48ea4b-c577-437a-806e-1bf0787a6e87",
   "metadata": {},
   "outputs": [
    {
     "name": "stdin",
     "output_type": "stream",
     "text": [
      " 67, 78, 56, 79, 90, 88, 46\n"
     ]
    },
    {
     "name": "stdout",
     "output_type": "stream",
     "text": [
      "平均值=72.0\n",
      "大于平均值的量:78  79  90  88  "
     ]
    }
   ],
   "source": [
    "list1 = list(eval(input()))\n",
    "lens = len(list1)\n",
    "av = sum(list1) / lens     \n",
    "print(\"平均值=\"+str(av))\n",
    "print(\"大于平均值的量:\", end=\"\")\n",
    "for i in range(lens):   \n",
    "    if list1[i] > av:\n",
    "        print(list1[i], end=\" \")"
   ]
  },
  {
   "cell_type": "markdown",
   "id": "3953f3e6-2070-4381-a360-7b3d2371c21a",
   "metadata": {},
   "source": [
    "### 另一种写法："
   ]
  },
  {
   "cell_type": "code",
   "execution_count": 4,
   "id": "e204d92a-e81d-4743-9255-d306f91602f2",
   "metadata": {},
   "outputs": [
    {
     "name": "stdin",
     "output_type": "stream",
     "text": [
      " 67, 78, 56, 79, 90, 88, 46\n"
     ]
    },
    {
     "name": "stdout",
     "output_type": "stream",
     "text": [
      "平均值=72.0\n",
      "大于平均值的量:78  79  90  88  "
     ]
    }
   ],
   "source": [
    "list1 = list(eval(input()))\n",
    "lens = len(list1)\n",
    "av = sum(list1) / lens     \n",
    "print(\"平均值=\"+str(av))\n",
    "print(\"大于平均值的量:\",end=\" \")\n",
    "for s in list1:   \n",
    "    if s > av:\n",
    "        print(s,end=\" \")"
   ]
  },
  {
   "cell_type": "markdown",
   "id": "b6358f9c-9d7a-4ab2-8abf-09ad3a0a0c16",
   "metadata": {},
   "source": [
    "## 例题2：输入多个整数到列表，去掉列表中的负数。"
   ]
  },
  {
   "cell_type": "code",
   "execution_count": 1,
   "id": "9f5edd29-0681-46e4-914f-c2999c01b9f8",
   "metadata": {},
   "outputs": [
    {
     "name": "stdin",
     "output_type": "stream",
     "text": [
      " 2 3 4 -9 -8 5 -7 6\n"
     ]
    },
    {
     "name": "stdout",
     "output_type": "stream",
     "text": [
      "[2, 3, 4, -9, -8, 5, -7, 6]\n",
      "[2, 3, 4, 5, 6]\n"
     ]
    }
   ],
   "source": [
    "list2 = list(map(int, input().split()))\n",
    "print(list2)\n",
    "i=0\n",
    "while i < len(list2): \n",
    "    if list2[i] < 0:\n",
    "        del list2[i]\n",
    "    else:\n",
    "        i=i+1\n",
    "print(list2)\n"
   ]
  },
  {
   "cell_type": "code",
   "execution_count": 2,
   "id": "183b235b-9d2c-4636-8d5c-486e57ddbd6f",
   "metadata": {},
   "outputs": [
    {
     "name": "stdin",
     "output_type": "stream",
     "text": [
      " 2 3 4 -9 -8 5 -7 6\n"
     ]
    },
    {
     "name": "stdout",
     "output_type": "stream",
     "text": [
      "[2, 3, 4, -9, -8, 5, -7, 6]\n",
      "[2, 3, 4, -8, 5, 6]\n"
     ]
    }
   ],
   "source": [
    "list2 = list(map(int, input().split()))\n",
    "print(list2)\n",
    "i=0\n",
    "while i < len(list2): \n",
    "    if list2[i] < 0:\n",
    "        del list2[i]\n",
    "    i=i+1\n",
    "print(list2)"
   ]
  },
  {
   "cell_type": "markdown",
   "id": "5c5a8a51-fed2-4071-b05f-c68c67b3212c",
   "metadata": {},
   "source": [
    "## 例题3：输入多个整数(以.结束)，输出其中的偶数。"
   ]
  },
  {
   "cell_type": "code",
   "execution_count": 3,
   "id": "b7dba7ec-f869-465e-a674-d778cd440b2d",
   "metadata": {},
   "outputs": [
    {
     "name": "stdin",
     "output_type": "stream",
     "text": [
      " 1\n",
      " 2\n",
      " 3\n",
      " 4\n",
      " 5\n",
      " 6\n",
      " .\n"
     ]
    },
    {
     "name": "stdout",
     "output_type": "stream",
     "text": [
      "偶数:2,4,6"
     ]
    }
   ],
   "source": [
    "list3 = [ ]\n",
    "while True:\n",
    "    m = input()\n",
    "    if m == '.':\n",
    "        break\n",
    "    s=int(m)\n",
    "    if s%2==0:\n",
    "        list3.append(s)\n",
    "if len(list3)>0:\n",
    "    print(\"偶数:\"+str(list3[0]),end=\"\")\n",
    "    for i in range(1,len(list3)):\n",
    "        print(\",\"+str(list3[i]),end=\"\")\n"
   ]
  },
  {
   "cell_type": "code",
   "execution_count": 4,
   "id": "8f9d07a4-9741-45b1-9bea-7bab0c1f6162",
   "metadata": {},
   "outputs": [
    {
     "name": "stdin",
     "output_type": "stream",
     "text": [
      " 1\n",
      " 2\n",
      " 3\n",
      " 4\n",
      " 5\n",
      " 6\n",
      " .\n"
     ]
    },
    {
     "name": "stdout",
     "output_type": "stream",
     "text": [
      "偶数:[2, 4, 6]"
     ]
    }
   ],
   "source": [
    "list3 = [ ]\n",
    "while True:\n",
    "    m = input()\n",
    "    if m == '.':\n",
    "        break\n",
    "    s=int(m)\n",
    "    if s%2==0:\n",
    "        list3.append(s)\n",
    "if len(list3)>0:\n",
    "    print(\"偶数:\"+str(list3),end=\"\")"
   ]
  },
  {
   "cell_type": "markdown",
   "id": "5d181f6c-6c5f-44da-9c99-dc405b659e1f",
   "metadata": {},
   "source": [
    "## 例题4：随机生成一5*5矩阵，试求对角线上的最值。"
   ]
  },
  {
   "cell_type": "code",
   "execution_count": 10,
   "id": "2f7d86e6-8db6-4317-949a-17aba297d9d2",
   "metadata": {},
   "outputs": [
    {
     "name": "stdout",
     "output_type": "stream",
     "text": [
      "    6   41   39   46   17\n",
      "    6    9   47   47   40\n",
      "   38   11   50   35   22\n",
      "   29    5   11   47   17\n",
      "   22   28   49   31   50\n",
      "max=50,min=6\n"
     ]
    }
   ],
   "source": [
    "from random import randint\n",
    "\n",
    "jz=[[randint(0,50) for j in range(5)] for i in range(5)]\n",
    "\n",
    "for i in range(5):\n",
    "    for j in range(5):\n",
    "        print(\"%5d\"%jz[i][j],end=\"\")\n",
    "    print()\n",
    "    \n",
    "djx=[ ]\n",
    "\n",
    "for i in range(0,5):   \n",
    "    djx.append(jz[i][i])\n",
    "    \n",
    "print(\"max=%d,min=%d\"%(max(djx),min(djx)))\n"
   ]
  },
  {
   "cell_type": "markdown",
   "id": "29a64f5f-1c4f-4339-93f6-23b43e003ab1",
   "metadata": {},
   "source": [
    "## 例题5：输入n,输出杨辉三角形的前n行。"
   ]
  },
  {
   "cell_type": "code",
   "execution_count": 11,
   "id": "59f26ecb-8f6a-4799-a628-8b7653718997",
   "metadata": {},
   "outputs": [
    {
     "name": "stdin",
     "output_type": "stream",
     "text": [
      "n= 6\n"
     ]
    },
    {
     "name": "stdout",
     "output_type": "stream",
     "text": [
      "1   \n",
      "1   1   \n",
      "1   2   1   \n",
      "1   3   3   1   \n",
      "1   4   6   4   1   \n",
      "1   5   10  10  5   1   \n"
     ]
    }
   ],
   "source": [
    "n = int(input(\"n=\"))\n",
    "\n",
    "yh = [[1 for j in range(i)] for i in range(1,n+1)] \n",
    "\n",
    "for i in range(2,n): \n",
    "    for j in range(1,i):\n",
    "        yh[i][j]=yh[i-1][j-1]+yh[i-1][j]\n",
    "\n",
    "for i in range(n):            \n",
    "    for j in range(i+1):     \n",
    "        print(\"%-4d\"%yh[i][j],end=\"\") \n",
    "    print()\n"
   ]
  }
 ],
 "metadata": {
  "kernelspec": {
   "display_name": "Python 3 (ipykernel)",
   "language": "python",
   "name": "python3"
  },
  "language_info": {
   "codemirror_mode": {
    "name": "ipython",
    "version": 3
   },
   "file_extension": ".py",
   "mimetype": "text/x-python",
   "name": "python",
   "nbconvert_exporter": "python",
   "pygments_lexer": "ipython3",
   "version": "3.9.12"
  }
 },
 "nbformat": 4,
 "nbformat_minor": 5
}
