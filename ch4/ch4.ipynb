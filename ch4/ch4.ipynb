{
 "cells": [
  {
   "cell_type": "markdown",
   "metadata": {},
   "source": [
    "# 第四章 选择结构"
   ]
  },
  {
   "cell_type": "markdown",
   "metadata": {},
   "source": [
    "## 例4-11\n",
    "从键盘输入一个三位整数，将该整数转换为英文表达。"
   ]
  },
  {
   "cell_type": "code",
   "execution_count": 2,
   "metadata": {},
   "outputs": [
    {
     "name": "stdin",
     "output_type": "stream",
     "text": [
      "请输入一个三位数： 392\n"
     ]
    },
    {
     "name": "stdout",
     "output_type": "stream",
     "text": [
      "three hundred and ninety-two\n"
     ]
    }
   ],
   "source": [
    "eng1 = ['', 'one', 'two', 'three', 'four', 'five', 'six', 'seven', 'eight', 'nine']\n",
    "eng2 = ['', 'ten', 'twenty', 'thirty', 'forty', 'fifty', 'sixty', 'seventy', 'eighty', 'ninety']\n",
    "eng3 = ['ten', 'eleven', 'twelve', 'thirteen', 'fourteen', 'fifteen','sixteen', 'seventeen', 'eighteen', 'nineteen']\n",
    "x = input('请输入一个三位数：')\n",
    "if len(x) != 3:\n",
    "    print('Input Error!')\n",
    "else:\n",
    "    a, b, c = map(int, x)\n",
    "s = ''                            # 结果字符串初始为空    \n",
    "s = eng1[a] + ' hundred '         # 直接转换百位，百位不会为0\n",
    "if b != 0 or c != 0:              # 不是整百的数字\n",
    "    s += 'and '\n",
    "    if b == 0:                    # 十位数为0的数字\n",
    "        s += eng1[c]\n",
    "    elif b == 1:                  # 十位数为1的数字\n",
    "        s += eng3[c]\n",
    "    else:\n",
    "        s += eng2[b]              # 十位数为2及以上的数字\n",
    "        if c != 0:                # 个位数为非0的数字\n",
    "            s += '-' + eng1[c]\n",
    "print(s)\n"
   ]
  }
 ],
 "metadata": {
  "kernelspec": {
   "display_name": "Python 3 (ipykernel)",
   "language": "python",
   "name": "python3"
  },
  "language_info": {
   "codemirror_mode": {
    "name": "ipython",
    "version": 3
   },
   "file_extension": ".py",
   "mimetype": "text/x-python",
   "name": "python",
   "nbconvert_exporter": "python",
   "pygments_lexer": "ipython3",
   "version": "3.9.12"
  },
  "vscode": {
   "interpreter": {
    "hash": "31f2aee4e71d21fbe5cf8b01ff0e069b9275f58929596ceb00d14d90e3e16cd6"
   }
  }
 },
 "nbformat": 4,
 "nbformat_minor": 4
}
