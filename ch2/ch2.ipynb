{
 "cells": [
  {
   "cell_type": "markdown",
   "id": "0f7140fd-7048-4967-9e26-40fb9c002694",
   "metadata": {},
   "source": [
    "# 第二章 Python基本语法\n",
    "\n",
    "本章包含如下主要内容：\n",
    "1. 数据类型\n",
    "2. 常量与变量\n",
    "2. 运算符与表达式\n",
    "2. 常用系统函数\n"
   ]
  },
  {
   "cell_type": "code",
   "execution_count": 2,
   "id": "30b8281e-6780-4160-bbce-d823d9f6875c",
   "metadata": {},
   "outputs": [
    {
     "name": "stdout",
     "output_type": "stream",
     "text": [
      "1\n"
     ]
    }
   ],
   "source": [
    "a=1\n",
    "print(a)"
   ]
  },
  {
   "cell_type": "markdown",
   "id": "14573ca1-894d-4480-9783-34016b89af0f",
   "metadata": {},
   "source": [
    "## 1、数据类型\n",
    "\n",
    "Python的数据类型包括：\n",
    "1. 基本数据类型：数值（numbers）、字符串（string）、布尔类型（bool)\n",
    "2. 复合数据类型：列表（list）、元组（tuple）、字典（dictionary）、集合（set）\n",
    "\n",
    "### 数值\n",
    "数值包括\n",
    "1. 整数：十进制整数（decimal）、二进制（binary）整数、八进制（octal）整数、十六进制（hexadecimal）整数\n",
    "2. 浮点数：常规表示法、科学计数法\n",
    "3. 复数\n",
    "\n"
   ]
  },
  {
   "cell_type": "markdown",
   "id": "8e0ea439",
   "metadata": {},
   "source": [
    "### 字符串\n",
    "\n",
    "用单引号、双引号或者三引号作定界符括起来的一组字符\n",
    "\n",
    "**单引号**："
   ]
  },
  {
   "cell_type": "code",
   "execution_count": 3,
   "id": "07e0d841",
   "metadata": {},
   "outputs": [
    {
     "data": {
      "text/plain": [
       "'C919'"
      ]
     },
     "execution_count": 3,
     "metadata": {},
     "output_type": "execute_result"
    }
   ],
   "source": [
    "'C919'"
   ]
  },
  {
   "cell_type": "markdown",
   "id": "d1a4a54d",
   "metadata": {},
   "source": [
    "**双引号**:"
   ]
  },
  {
   "cell_type": "code",
   "execution_count": 2,
   "id": "1967fe57",
   "metadata": {},
   "outputs": [
    {
     "data": {
      "text/plain": [
       "'广东药科大学'"
      ]
     },
     "execution_count": 2,
     "metadata": {},
     "output_type": "execute_result"
    }
   ],
   "source": [
    "\"广东药科大学\""
   ]
  },
  {
   "cell_type": "markdown",
   "id": "9b638023",
   "metadata": {},
   "source": [
    "**三引号**："
   ]
  },
  {
   "cell_type": "code",
   "execution_count": 3,
   "id": "6f5d7148",
   "metadata": {},
   "outputs": [
    {
     "data": {
      "text/plain": [
       "'天宫1号'"
      ]
     },
     "execution_count": 3,
     "metadata": {},
     "output_type": "execute_result"
    }
   ],
   "source": [
    "\"\"\"天宫1号\"\"\""
   ]
  },
  {
   "cell_type": "code",
   "execution_count": 8,
   "id": "face67f8",
   "metadata": {},
   "outputs": [
    {
     "data": {
      "text/plain": [
       "float"
      ]
     },
     "execution_count": 8,
     "metadata": {},
     "output_type": "execute_result"
    }
   ],
   "source": [
    "#type('''1''')\n",
    "type(1)"
   ]
  },
  {
   "cell_type": "markdown",
   "id": "2e77ce31",
   "metadata": {},
   "source": [
    "字符串的内容可以为除**定界符**之外的任意**0到多个**合法的字符。"
   ]
  },
  {
   "cell_type": "code",
   "execution_count": 7,
   "id": "ff9e5761",
   "metadata": {},
   "outputs": [
    {
     "data": {
      "text/plain": [
       "\"It's China!\""
      ]
     },
     "execution_count": 7,
     "metadata": {},
     "output_type": "execute_result"
    }
   ],
   "source": [
    "\"It's China!\""
   ]
  },
  {
   "cell_type": "code",
   "execution_count": 8,
   "id": "7472e2bf",
   "metadata": {},
   "outputs": [
    {
     "data": {
      "text/plain": [
       "'He say\"ok\"'"
      ]
     },
     "execution_count": 8,
     "metadata": {},
     "output_type": "execute_result"
    }
   ],
   "source": [
    "'He say\"ok\"'"
   ]
  },
  {
   "cell_type": "code",
   "execution_count": 9,
   "id": "b303adac",
   "metadata": {},
   "outputs": [
    {
     "data": {
      "text/plain": [
       "''"
      ]
     },
     "execution_count": 9,
     "metadata": {},
     "output_type": "execute_result"
    }
   ],
   "source": [
    "\"\""
   ]
  },
  {
   "cell_type": "code",
   "execution_count": 10,
   "id": "db7ba3e9",
   "metadata": {},
   "outputs": [
    {
     "data": {
      "text/plain": [
       "'1\\'23\"'"
      ]
     },
     "execution_count": 10,
     "metadata": {},
     "output_type": "execute_result"
    }
   ],
   "source": [
    "'''1'23\"'''"
   ]
  },
  {
   "cell_type": "code",
   "execution_count": null,
   "id": "ee5f680b",
   "metadata": {},
   "outputs": [],
   "source": []
  },
  {
   "cell_type": "markdown",
   "id": "ff915c04",
   "metadata": {},
   "source": [
    "### 1.3 字符串：转义字符\n",
    "\n",
    "用**反斜杠** \"\\\\\" 加一(或多)个约定字符来表示**另一个**特定含义的字符。\n",
    "* \\n\n",
    "* \\t\n",
    "* \\\\\n",
    "* \\'\n",
    "* \\\"\n",
    "* \\ooo\n",
    "* \\xhh\n",
    "* \\uhhhh\n"
   ]
  },
  {
   "cell_type": "markdown",
   "id": "47784014",
   "metadata": {},
   "source": [
    "### 1.4 原始字符串\n",
    "\n",
    "用**r**或**R**作**前置符**的字符串。\n",
    "\n",
    "屏蔽字符串内的转义表示，恢复其原义。\n"
   ]
  },
  {
   "cell_type": "code",
   "execution_count": 7,
   "id": "0e87a125-1d59-4b00-ba8a-3c0db5673ae5",
   "metadata": {},
   "outputs": [
    {
     "name": "stdout",
     "output_type": "stream",
     "text": [
      "love\\nChina\n"
     ]
    }
   ],
   "source": [
    "print(r'love\\nChina')"
   ]
  },
  {
   "cell_type": "code",
   "execution_count": 9,
   "id": "c451f750-f681-4214-9192-8cc3fd0c819f",
   "metadata": {},
   "outputs": [
    {
     "name": "stdout",
     "output_type": "stream",
     "text": [
      "love\n",
      "China\n"
     ]
    }
   ],
   "source": [
    "print('love\\nChina')"
   ]
  },
  {
   "cell_type": "markdown",
   "id": "9a09e355",
   "metadata": {},
   "source": [
    "### 1.5 布尔类型\n",
    "\n",
    "用以表示逻辑判断结果，只有**True**和**False**两个值。\n",
    "\n",
    "*说明*:\n",
    "* **None**、数值**0**、任何值**为空**的数据对象（空字符串 **\"\"**、空元组 **( )**、空列表**[ ]**、空字典**{ }**、空集合**set()**等）在作条件判断使用时，均被视为False。\n",
    "* **非0非空**数据对象则等效于**True**。\n"
   ]
  },
  {
   "cell_type": "markdown",
   "id": "59c3d001-662c-4da7-ada2-404504b8ffb5",
   "metadata": {},
   "source": [
    "## 2. 常量与变量\n",
    "\n",
    "### 2.1 常量\n",
    "\n",
    "* 数据对象的值保持恒定不变的量。\n",
    "* 常量对象存放在内存中，且具有明确的数据类型。\n",
    "* 基本数据类型的常量值具有不可修改性。\n",
    "\n",
    "\n",
    "### 2.2 变量\n",
    "\n",
    "* 用于标识实体对象的标识符(名称)\n",
    "* 变量赋值\n",
    "  * 变量名 = 表达式\n"
   ]
  },
  {
   "cell_type": "code",
   "execution_count": 12,
   "id": "29a4ac83",
   "metadata": {},
   "outputs": [],
   "source": [
    "a=\"I love China\""
   ]
  },
  {
   "cell_type": "markdown",
   "id": "a52646aa",
   "metadata": {},
   "source": [
    "Python解释器将完成：\n",
    "* 在内存中创建一个值为\"I love China\"的字符串(对象)；\n",
    "* 在内存中创建一个名为a的变量；\n",
    "* 使变量name指向字符串\"I love China\"。\n"
   ]
  },
  {
   "cell_type": "markdown",
   "id": "fb6dc902",
   "metadata": {},
   "source": [
    "### 2.3 变量\n",
    "\n",
    "**说明**:\n",
    "\n",
    "* 变量使用前，必须对其进行**赋值**才有意义。\n",
    "* **变量的类型**由它所标识(指向)的**对象的类型**决定。\n"
   ]
  },
  {
   "cell_type": "code",
   "execution_count": 13,
   "id": "4d11ed5b",
   "metadata": {},
   "outputs": [],
   "source": [
    "a = 10*20   #将表达式的计算结果赋值给a"
   ]
  },
  {
   "cell_type": "code",
   "execution_count": 14,
   "id": "68e9cceb",
   "metadata": {},
   "outputs": [
    {
     "data": {
      "text/plain": [
       "str"
      ]
     },
     "execution_count": 14,
     "metadata": {},
     "output_type": "execute_result"
    }
   ],
   "source": [
    "a= 'I love China'\n",
    "type(a)"
   ]
  },
  {
   "cell_type": "markdown",
   "id": "6929cfb6",
   "metadata": {},
   "source": [
    "* 变量的类型随着被赋值的对象的变化而动态变化。\n",
    "* 可以使用type函数求变量或表达式(计算)结果的类型。\n"
   ]
  },
  {
   "cell_type": "code",
   "execution_count": 15,
   "id": "c31fe1cb",
   "metadata": {},
   "outputs": [
    {
     "data": {
      "text/plain": [
       "int"
      ]
     },
     "execution_count": 15,
     "metadata": {},
     "output_type": "execute_result"
    }
   ],
   "source": [
    "type(200)"
   ]
  },
  {
   "cell_type": "markdown",
   "id": "16232e9e",
   "metadata": {},
   "source": [
    "### 2.4 标识符\n",
    "\n",
    "* 用来标识一个变量、函数、类、模块等对象的名称。\n",
    "* 命名规则:\n",
    "  * 由字母(汉字)、数字、下划线组成，且首字符不能为数字。\n",
    "  * 不能使用关键字，严格区分大小写。\n"
   ]
  },
  {
   "cell_type": "markdown",
   "id": "df132773",
   "metadata": {},
   "source": [
    "## 3. 运算符与表达式"
   ]
  },
  {
   "cell_type": "markdown",
   "id": "c3d85fb2",
   "metadata": {},
   "source": [
    "### 3.1 运算符和表达式\n",
    "\n",
    "* 基本运算：\n",
    "  * 算术运算：-、+、-、*、/、//、%、**\n",
    "  * 关系运算：>、>=、<、<=、!=、==\n",
    "  * 逻辑运算：not、and、or\n",
    "* 表达式：\n",
    "  * 由运算符与运算对象按照约定的运算规则组合形成的式子。\n"
   ]
  },
  {
   "cell_type": "markdown",
   "id": "781bf40a",
   "metadata": {},
   "source": [
    "### 3.2 算术运算符和算术表达式\n"
   ]
  },
  {
   "cell_type": "code",
   "execution_count": 30,
   "id": "6d2dee6f",
   "metadata": {},
   "outputs": [
    {
     "data": {
      "text/plain": [
       "-200"
      ]
     },
     "execution_count": 30,
     "metadata": {},
     "output_type": "execute_result"
    }
   ],
   "source": [
    "b = 100\n",
    "a = -b\n",
    "a\n",
    "a + b\n",
    "a - b"
   ]
  },
  {
   "cell_type": "code",
   "execution_count": null,
   "id": "3c67bb8f",
   "metadata": {},
   "outputs": [],
   "source": [
    "b * 3\n",
    "b / 3\n",
    "b // 3\n",
    "b % 3"
   ]
  },
  {
   "cell_type": "code",
   "execution_count": 28,
   "id": "4b0023d5",
   "metadata": {},
   "outputs": [
    {
     "data": {
      "text/plain": [
       "0.75"
      ]
     },
     "execution_count": 28,
     "metadata": {},
     "output_type": "execute_result"
    }
   ],
   "source": [
    "-2 ** 4\n",
    "2 ** 3 ** 2\n",
    "100 // 9 // 2\n",
    "2 * 3 / 2 ** 3"
   ]
  },
  {
   "cell_type": "markdown",
   "id": "a7289c8d",
   "metadata": {},
   "source": [
    "### 3.3 运算符的优先级\n",
    "\n",
    "* 优先级高的先算，优先级低的后算。\n",
    "* 同级运算符从左向右算。\n",
    "* 乘方具有右结合特征。"
   ]
  },
  {
   "cell_type": "markdown",
   "id": "32c34283",
   "metadata": {},
   "source": [
    "### 3.4 浮点数的计算误差\n",
    "\n",
    "* 计算机内所有数据都是二进制形式存储的。\n",
    "* 在位数有限的情况下，在二进制和十进制相互转换后，都有可能产生微小的误差。\n"
   ]
  },
  {
   "cell_type": "code",
   "execution_count": 16,
   "id": "412c0fbb",
   "metadata": {},
   "outputs": [],
   "source": [
    "x = 2.3"
   ]
  },
  {
   "cell_type": "code",
   "execution_count": 17,
   "id": "8ab8e1c0",
   "metadata": {},
   "outputs": [
    {
     "data": {
      "text/plain": [
       "0.9999999999999998"
      ]
     },
     "execution_count": 17,
     "metadata": {},
     "output_type": "execute_result"
    }
   ],
   "source": [
    "x - 1.3"
   ]
  },
  {
   "cell_type": "code",
   "execution_count": 18,
   "id": "67582877",
   "metadata": {},
   "outputs": [
    {
     "data": {
      "text/plain": [
       "False"
      ]
     },
     "execution_count": 18,
     "metadata": {},
     "output_type": "execute_result"
    }
   ],
   "source": [
    "x - 1.3 == 1"
   ]
  },
  {
   "cell_type": "code",
   "execution_count": 19,
   "id": "be179c3c",
   "metadata": {},
   "outputs": [
    {
     "data": {
      "text/plain": [
       "1.0999999999999996"
      ]
     },
     "execution_count": 19,
     "metadata": {},
     "output_type": "execute_result"
    }
   ],
   "source": [
    "7.1 % 3"
   ]
  },
  {
   "cell_type": "markdown",
   "id": "e813370b",
   "metadata": {},
   "source": [
    "### 3.5 浮点数的相等判断\n",
    "\n",
    "依据两者的差的绝对值否小于一个极小值"
   ]
  },
  {
   "cell_type": "code",
   "execution_count": 21,
   "id": "586b001a",
   "metadata": {},
   "outputs": [
    {
     "data": {
      "text/plain": [
       "True"
      ]
     },
     "execution_count": 21,
     "metadata": {},
     "output_type": "execute_result"
    }
   ],
   "source": [
    "a = 1.3\n",
    "b = 2.3 - 1\n",
    "abs(a-b) < 1e-10"
   ]
  },
  {
   "cell_type": "markdown",
   "id": "a01da8be",
   "metadata": {},
   "source": [
    "使用math库中的isclose()函数。"
   ]
  },
  {
   "cell_type": "code",
   "execution_count": 23,
   "id": "a1e4d72d",
   "metadata": {},
   "outputs": [
    {
     "data": {
      "text/plain": [
       "2.1100000000000003"
      ]
     },
     "execution_count": 23,
     "metadata": {},
     "output_type": "execute_result"
    }
   ],
   "source": [
    "import math\n",
    "1.11 + 1"
   ]
  },
  {
   "cell_type": "code",
   "execution_count": 25,
   "id": "d7458c5a",
   "metadata": {},
   "outputs": [
    {
     "data": {
      "text/plain": [
       "True"
      ]
     },
     "execution_count": 25,
     "metadata": {},
     "output_type": "execute_result"
    }
   ],
   "source": [
    "math.isclose(2.11, 1.11 + 1)"
   ]
  },
  {
   "cell_type": "markdown",
   "id": "1faf1f0b",
   "metadata": {},
   "source": [
    "## 4. 常用系统函数\n",
    "\n",
    "### 4.1 函数\n",
    "\n",
    "* 概念\n",
    "  * 能单独执行并完成某一特定功能的代码封装体。\n",
    "* 说明\n",
    "  * 每个函数均有一个函数名，通过函数调用完成函数的运行；\n",
    "  * 函数调用形式：函数名(参数表)\n",
    "  * 函数调用后的运行结果称为函数的返回值。\n",
    "* 函数分类\n",
    "  * 内置函数\n",
    "    * 内置函数包含在模块builtins中，可以直接调用。\n",
    "  * 库函数\n",
    "    * 标准库（随Python安装）和第三方库（需单独安装）\n",
    "\n",
    "### 4.2 常用内置函数\n",
    "\n",
    "### 4.3 常用库函数\n",
    "\n",
    "### 4.4 库函数及导入\n",
    "\n",
    "* 函数库又称模块\n",
    "  * 包含所有定义的函数和变量，扩展名为.py的文件。\n",
    "  * 可以被别的程序导入，以便使用该模块中的函数功能。\n",
    "* 模块导入方法1\n",
    "  * 引入：import  模块名  [as  别名]  \n",
    "  * 使用：模块名.函数名(….) OR 别名.函数名(….)\n",
    "\n",
    "\n"
   ]
  },
  {
   "cell_type": "code",
   "execution_count": 27,
   "id": "e3307be2",
   "metadata": {},
   "outputs": [
    {
     "data": {
      "text/plain": [
       "3.952847075210474"
      ]
     },
     "execution_count": 27,
     "metadata": {},
     "output_type": "execute_result"
    }
   ],
   "source": [
    "import  math\n",
    "math.pow(2.5,1.5)"
   ]
  },
  {
   "cell_type": "markdown",
   "id": "231f5aa1",
   "metadata": {},
   "source": [
    "* 模块导入方法2\n",
    "  * 引入：from 模块 import 函数名 [as  别名] \n",
    "  * 使用：函数名(…..) OR 别名(…..)"
   ]
  },
  {
   "cell_type": "code",
   "execution_count": 26,
   "id": "fefe5223",
   "metadata": {},
   "outputs": [
    {
     "data": {
      "text/plain": [
       "8.389056098930649"
      ]
     },
     "execution_count": 26,
     "metadata": {},
     "output_type": "execute_result"
    }
   ],
   "source": [
    "from math import  pi,e,pow,sin\n",
    "sin(pi/2)+pow(e,2)"
   ]
  },
  {
   "cell_type": "markdown",
   "id": "2fa421f5",
   "metadata": {},
   "source": [
    "### 4.5 常用标准库函数\n",
    "\n",
    "* math库中的常用函数\n",
    "* random库中的常用函数\n",
    "* time库中的常用函数\n",
    "* timedate库中的常用函数\n"
   ]
  }
 ],
 "metadata": {
  "kernelspec": {
   "display_name": "Python 3 (ipykernel)",
   "language": "python",
   "name": "python3"
  },
  "language_info": {
   "codemirror_mode": {
    "name": "ipython",
    "version": 3
   },
   "file_extension": ".py",
   "mimetype": "text/x-python",
   "name": "python",
   "nbconvert_exporter": "python",
   "pygments_lexer": "ipython3",
   "version": "3.9.12"
  },
  "vscode": {
   "interpreter": {
    "hash": "31f2aee4e71d21fbe5cf8b01ff0e069b9275f58929596ceb00d14d90e3e16cd6"
   }
  }
 },
 "nbformat": 4,
 "nbformat_minor": 5
}
