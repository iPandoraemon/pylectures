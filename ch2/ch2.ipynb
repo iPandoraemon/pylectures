{
 "cells": [
  {
   "cell_type": "markdown",
   "id": "0f7140fd-7048-4967-9e26-40fb9c002694",
   "metadata": {},
   "source": [
    "# Python基本语法"
   ]
  },
  {
   "cell_type": "code",
   "execution_count": 5,
   "id": "30b8281e-6780-4160-bbce-d823d9f6875c",
   "metadata": {},
   "outputs": [
    {
     "name": "stdout",
     "output_type": "stream",
     "text": [
      "1\n"
     ]
    }
   ],
   "source": [
    "a=1\n",
    "print(a)"
   ]
  },
  {
   "cell_type": "markdown",
   "id": "14573ca1-894d-4480-9783-34016b89af0f",
   "metadata": {},
   "source": [
    "# 数据类型\n",
    "## 原始字符串"
   ]
  },
  {
   "cell_type": "code",
   "execution_count": 7,
   "id": "0e87a125-1d59-4b00-ba8a-3c0db5673ae5",
   "metadata": {},
   "outputs": [
    {
     "name": "stdout",
     "output_type": "stream",
     "text": [
      "love\\nChina\n"
     ]
    }
   ],
   "source": [
    "print(r'love\\nChina')"
   ]
  },
  {
   "cell_type": "code",
   "execution_count": 9,
   "id": "c451f750-f681-4214-9192-8cc3fd0c819f",
   "metadata": {},
   "outputs": [
    {
     "name": "stdout",
     "output_type": "stream",
     "text": [
      "love\n",
      "China\n"
     ]
    }
   ],
   "source": [
    "print('love\\nChina')"
   ]
  },
  {
   "cell_type": "markdown",
   "id": "59c3d001-662c-4da7-ada2-404504b8ffb5",
   "metadata": {},
   "source": [
    "## 2. 常量与变量"
   ]
  }
 ],
 "metadata": {
  "kernelspec": {
   "display_name": "Python 3 (ipykernel)",
   "language": "python",
   "name": "python3"
  },
  "language_info": {
   "codemirror_mode": {
    "name": "ipython",
    "version": 3
   },
   "file_extension": ".py",
   "mimetype": "text/x-python",
   "name": "python",
   "nbconvert_exporter": "python",
   "pygments_lexer": "ipython3",
   "version": "3.9.12"
  }
 },
 "nbformat": 4,
 "nbformat_minor": 5
}
