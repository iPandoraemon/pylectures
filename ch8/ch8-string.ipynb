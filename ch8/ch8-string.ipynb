{
 "cells": [
  {
   "cell_type": "markdown",
   "id": "f8e6f054-4903-4d47-94af-fa03419701ed",
   "metadata": {},
   "source": [
    "# 8.1 字符串\n",
    "\n",
    "## 创建"
   ]
  },
  {
   "cell_type": "code",
   "execution_count": null,
   "id": "6bb31e9d-35d7-47c6-b178-ec943b0cd829",
   "metadata": {},
   "outputs": [],
   "source": [
    "# 用引号创建\n",
    "s0 = 'GD'\n",
    "s1 = \"PU\"\n",
    "s2 = '''Perfume'''"
   ]
  },
  {
   "cell_type": "code",
   "execution_count": null,
   "id": "4f98f1e7-94e5-4bce-a197-518598ab5a6f",
   "metadata": {},
   "outputs": [],
   "source": [
    "# 用str()函数创建\n",
    "s3 = str(123.45)"
   ]
  },
  {
   "cell_type": "markdown",
   "id": "75c8e58d-6f3e-40b5-8d1c-cc13f0453064",
   "metadata": {},
   "source": [
    "## 索引"
   ]
  },
  {
   "cell_type": "code",
   "execution_count": null,
   "id": "c5bdbada-4d19-4ff8-8256-b0cb26789994",
   "metadata": {},
   "outputs": [],
   "source": [
    "s0[0]"
   ]
  },
  {
   "cell_type": "code",
   "execution_count": null,
   "id": "a01ea0c9-8189-4e3f-86f4-1d78f4283d00",
   "metadata": {},
   "outputs": [],
   "source": [
    "s1[1]"
   ]
  },
  {
   "cell_type": "code",
   "execution_count": null,
   "id": "458121ae-78c2-4268-9f2b-d2edcebc2bbf",
   "metadata": {},
   "outputs": [],
   "source": [
    "s2[-1]"
   ]
  },
  {
   "cell_type": "code",
   "execution_count": null,
   "id": "72cb4ded-3c2b-4547-bded-58bfdf00d16c",
   "metadata": {},
   "outputs": [],
   "source": [
    "s2[-2]"
   ]
  },
  {
   "cell_type": "code",
   "execution_count": null,
   "id": "0adbb7e9-ede7-486e-babe-3325dcc74a0a",
   "metadata": {},
   "outputs": [],
   "source": [
    "s2[1:3]"
   ]
  },
  {
   "cell_type": "code",
   "execution_count": null,
   "id": "e5a53933-8432-4a6e-af00-9531193b7512",
   "metadata": {},
   "outputs": [],
   "source": [
    "s2[2:-2]"
   ]
  },
  {
   "cell_type": "markdown",
   "id": "c06b02bf-c63a-4afe-a6ca-927d75c184ee",
   "metadata": {},
   "source": [
    "## 删除"
   ]
  },
  {
   "cell_type": "code",
   "execution_count": null,
   "id": "aafbb056-4aec-49e8-a246-7e246e0a7b62",
   "metadata": {},
   "outputs": [],
   "source": [
    "s0 = 'It is a string type!'\n",
    "s0"
   ]
  },
  {
   "cell_type": "code",
   "execution_count": null,
   "id": "ddfa0318-bd41-45eb-8e79-7db789d0766c",
   "metadata": {},
   "outputs": [],
   "source": [
    "# 可以删除其中一个字符吗？\n",
    "del s0[2]"
   ]
  },
  {
   "cell_type": "code",
   "execution_count": null,
   "id": "c3c9cef6-8fc9-4b18-bc48-c9052eef838b",
   "metadata": {},
   "outputs": [],
   "source": [
    "# 删除整个字符串变量\n",
    "del s0\n",
    "s0"
   ]
  },
  {
   "cell_type": "markdown",
   "id": "c8862cd7-92dd-42d5-a117-b32ea2e59e3d",
   "metadata": {},
   "source": [
    "## 编码"
   ]
  },
  {
   "cell_type": "code",
   "execution_count": null,
   "id": "56e0be9f-089d-465d-8048-aaa5e2b427a4",
   "metadata": {},
   "outputs": [],
   "source": [
    "# ord()：求自负的ASCII编码值\n",
    "ord(\"A\")"
   ]
  },
  {
   "cell_type": "code",
   "execution_count": null,
   "id": "02233b50-50b7-4259-ae07-640b7b13d33b",
   "metadata": {},
   "outputs": [],
   "source": [
    "ord(\"a\")"
   ]
  },
  {
   "cell_type": "code",
   "execution_count": null,
   "id": "3058f057-0961-48d2-a366-bf7ba4198fd7",
   "metadata": {},
   "outputs": [],
   "source": [
    "# chr()：求给定编码值所对应的字符\n",
    "chr(65)"
   ]
  },
  {
   "cell_type": "code",
   "execution_count": null,
   "id": "4e0ff459-e054-4ea9-89a0-fa9dfe64ba96",
   "metadata": {},
   "outputs": [],
   "source": [
    "chr(ord('a')+3)"
   ]
  },
  {
   "cell_type": "markdown",
   "id": "7ba4c5de-6f59-44a6-8622-50f40a87766e",
   "metadata": {},
   "source": [
    "## 运算符的操作"
   ]
  },
  {
   "cell_type": "code",
   "execution_count": null,
   "id": "f9c81e36-6510-418d-a03a-f69b20a41ee9",
   "metadata": {},
   "outputs": [],
   "source": [
    "s0 = 'Love '\n",
    "s1 = 'China'\n",
    "print(s0)\n",
    "print(s1)"
   ]
  },
  {
   "cell_type": "code",
   "execution_count": null,
   "id": "86ba2137-ff54-4a57-ab58-d710414a89a1",
   "metadata": {},
   "outputs": [],
   "source": [
    "# 拼接操作+、+=\n",
    "s2 = s0+s1\n",
    "s2"
   ]
  },
  {
   "cell_type": "code",
   "execution_count": null,
   "id": "23967294-7d73-4b35-86db-a8313ee13073",
   "metadata": {},
   "outputs": [],
   "source": [
    "# +=不生成新的变量\n",
    "s0+=s1\n",
    "s0"
   ]
  },
  {
   "cell_type": "code",
   "execution_count": null,
   "id": "fe33fb19-2bd7-4870-ac7b-6dc04c2949f1",
   "metadata": {},
   "outputs": [],
   "source": [
    "# 重复操作*、*=\n",
    "s3=s1*2\n",
    "s3"
   ]
  },
  {
   "cell_type": "code",
   "execution_count": null,
   "id": "f55e7623-fe05-452a-926c-bf34d1531fec",
   "metadata": {},
   "outputs": [],
   "source": [
    "# *=不生成新的变量\n",
    "s3 *= 2\n",
    "s3"
   ]
  },
  {
   "cell_type": "code",
   "execution_count": null,
   "id": "b0b9b2a7-a15f-437f-a952-a11d8ff623fc",
   "metadata": {},
   "outputs": [],
   "source": [
    "# in的操作\n",
    "'Chi' in s3"
   ]
  },
  {
   "cell_type": "code",
   "execution_count": null,
   "id": "3c48392e-7e15-4092-9ead-b6ea1664e830",
   "metadata": {},
   "outputs": [],
   "source": [
    "'chi' in s3"
   ]
  },
  {
   "cell_type": "code",
   "execution_count": null,
   "id": "97c80b19-88a2-45b9-995e-01de87d2f895",
   "metadata": {},
   "outputs": [],
   "source": [
    "# 关系运算符：>、>=、<、<=、==\n",
    "print(ord('A'), ord('a'))"
   ]
  },
  {
   "cell_type": "code",
   "execution_count": null,
   "id": "22adb7e2-1e1e-468e-86d1-371bb9ff6b68",
   "metadata": {},
   "outputs": [],
   "source": [
    "'Ab' > 'ABC'"
   ]
  },
  {
   "cell_type": "code",
   "execution_count": null,
   "id": "42e22249-01da-46a8-bc75-df7c4968c89a",
   "metadata": {},
   "outputs": [],
   "source": [
    "'AB' > 'ABC'"
   ]
  },
  {
   "cell_type": "markdown",
   "id": "07b9ed67-eadb-489e-b9ff-660034c41828",
   "metadata": {},
   "source": [
    "## 内置函数的操作"
   ]
  },
  {
   "cell_type": "code",
   "execution_count": null,
   "id": "3e552d93-514d-4354-8d62-2db3b6d47d7c",
   "metadata": {},
   "outputs": [],
   "source": [
    "len('China')"
   ]
  },
  {
   "cell_type": "code",
   "execution_count": null,
   "id": "307ea224-1927-4230-b378-c4c2cd42ebfe",
   "metadata": {},
   "outputs": [],
   "source": [
    "max('China')"
   ]
  },
  {
   "cell_type": "code",
   "execution_count": null,
   "id": "47186a70-9d23-4f38-8e05-2f6ced1521fc",
   "metadata": {},
   "outputs": [],
   "source": [
    "min('China')"
   ]
  },
  {
   "cell_type": "code",
   "execution_count": null,
   "id": "eabbfa20-a40e-4140-9eb7-6479eabfe482",
   "metadata": {},
   "outputs": [],
   "source": [
    "sorted('China')"
   ]
  },
  {
   "cell_type": "code",
   "execution_count": null,
   "id": "204050b5-ebe4-49f6-a954-568be5b7202c",
   "metadata": {},
   "outputs": [],
   "source": [
    "# 如果要合并上面的字符呢？"
   ]
  },
  {
   "cell_type": "code",
   "execution_count": null,
   "id": "a76f68c7-c8c4-448f-a0ec-b51fa1e4770a",
   "metadata": {},
   "outputs": [],
   "source": [
    "reversed('China')"
   ]
  },
  {
   "cell_type": "code",
   "execution_count": null,
   "id": "8b7a8898-ade1-44a2-8990-2117f1ffaecd",
   "metadata": {},
   "outputs": [],
   "source": [
    "list(reversed('China'))"
   ]
  },
  {
   "cell_type": "code",
   "execution_count": null,
   "id": "c3644500-ea3e-467f-8dc7-4e687489253a",
   "metadata": {},
   "outputs": [],
   "source": [
    "zip('AB', 'ab')"
   ]
  },
  {
   "cell_type": "code",
   "execution_count": null,
   "id": "504591ba-5ac1-4220-877c-f9aa3569bdf4",
   "metadata": {},
   "outputs": [],
   "source": [
    "list(zip('AB', 'ab'))"
   ]
  },
  {
   "cell_type": "code",
   "execution_count": null,
   "id": "7495ab0b-79b4-4360-8d06-54c3e4d7c3ef",
   "metadata": {},
   "outputs": [],
   "source": [
    "all('China')"
   ]
  },
  {
   "cell_type": "code",
   "execution_count": null,
   "id": "6ca32c7a-5b2d-4d5f-b078-601569d93093",
   "metadata": {},
   "outputs": [],
   "source": [
    "any('China')"
   ]
  },
  {
   "cell_type": "markdown",
   "id": "361a7942-d1a6-4b12-ae5f-2623c0faea4f",
   "metadata": {},
   "source": [
    "### eval()函数\n",
    "\n",
    "`eval()`函数可以把字符串转换为表达式"
   ]
  },
  {
   "cell_type": "code",
   "execution_count": null,
   "id": "778d68c7-341f-43c9-8f5f-789e769206a2",
   "metadata": {},
   "outputs": [],
   "source": [
    "eval('3+4')"
   ]
  },
  {
   "cell_type": "code",
   "execution_count": null,
   "id": "340b1c4e-9e79-4335-b82f-45ea2987fd12",
   "metadata": {},
   "outputs": [],
   "source": [
    "a = eval(input())\n",
    "a"
   ]
  },
  {
   "cell_type": "markdown",
   "id": "a9fc2544-e359-4c43-9fc5-d78e9696d713",
   "metadata": {},
   "source": [
    "## 遍历"
   ]
  },
  {
   "cell_type": "code",
   "execution_count": null,
   "id": "35c8a96e-4242-4a0f-b817-9257f1bc8ffe",
   "metadata": {},
   "outputs": [],
   "source": [
    "s0 = 'I love GDPU.'\n",
    "for i in range(len(s0)):\n",
    "    print(s0[i], end=' ')"
   ]
  },
  {
   "cell_type": "code",
   "execution_count": null,
   "id": "b692fc21-4ccd-4a3c-b46c-e9426700a972",
   "metadata": {},
   "outputs": [],
   "source": [
    "for char in s0:\n",
    "    print(char, end=' ')"
   ]
  },
  {
   "cell_type": "markdown",
   "id": "56439b08-a281-494b-96fd-6ca2738e4662",
   "metadata": {},
   "source": [
    "## 切片"
   ]
  },
  {
   "cell_type": "code",
   "execution_count": null,
   "id": "083ef4fb-b191-49bd-aedd-10ad53201556",
   "metadata": {},
   "outputs": [],
   "source": [
    "s0 = 'I love GDPU'\n",
    "s0"
   ]
  },
  {
   "cell_type": "code",
   "execution_count": null,
   "id": "e01b2ac2-4827-46b4-ba9b-84f9388f0438",
   "metadata": {},
   "outputs": [],
   "source": [
    "# 如果我们要找到love呢？"
   ]
  },
  {
   "cell_type": "code",
   "execution_count": null,
   "id": "55bc8cfb-9de8-43cd-8add-93a57e618370",
   "metadata": {},
   "outputs": [],
   "source": [
    "# 如果戒指索引缺省的时候，怎么找到GDPU？"
   ]
  },
  {
   "cell_type": "markdown",
   "id": "a22c0458-46ce-4914-9b3c-627330b75bfc",
   "metadata": {},
   "source": [
    "## 字符串对象的常用方法"
   ]
  },
  {
   "cell_type": "code",
   "execution_count": null,
   "id": "3f59522b-f719-4c50-a675-d7580b2cc5b6",
   "metadata": {},
   "outputs": [],
   "source": [
    "s0 = 'I love China!'"
   ]
  },
  {
   "cell_type": "code",
   "execution_count": null,
   "id": "21adb35b-312c-47b4-a852-91bd17deebfd",
   "metadata": {},
   "outputs": [],
   "source": [
    "s0.capitalize()"
   ]
  },
  {
   "cell_type": "code",
   "execution_count": null,
   "id": "7bdb64c8-7293-479c-a787-a9b881682265",
   "metadata": {},
   "outputs": [],
   "source": [
    "s0.lower()"
   ]
  },
  {
   "cell_type": "code",
   "execution_count": null,
   "id": "0d24e207-ff40-4078-a5ff-5a5d660ef20e",
   "metadata": {},
   "outputs": [],
   "source": [
    "s0.upper()"
   ]
  },
  {
   "cell_type": "code",
   "execution_count": null,
   "id": "b2214e02-6b50-4ec6-b00f-73881fd67e35",
   "metadata": {},
   "outputs": [],
   "source": [
    "s0.swapcase()"
   ]
  },
  {
   "cell_type": "code",
   "execution_count": null,
   "id": "71902934-d85e-4b79-be1e-bb80f174b3ba",
   "metadata": {},
   "outputs": [],
   "source": [
    "s0.title()"
   ]
  },
  {
   "cell_type": "markdown",
   "id": "0e62238b-7919-449f-957e-d12d8f0010a0",
   "metadata": {},
   "source": [
    "### 去除字符"
   ]
  },
  {
   "cell_type": "code",
   "execution_count": null,
   "id": "c699a999-6e49-422f-9bc7-ce5c635db19a",
   "metadata": {},
   "outputs": [],
   "source": [
    "s1 = '    I love China!\\t\\n   '"
   ]
  },
  {
   "cell_type": "code",
   "execution_count": null,
   "id": "7d7f6211-ea59-4901-9d89-1d74414f26a4",
   "metadata": {},
   "outputs": [],
   "source": [
    "s1.strip()"
   ]
  },
  {
   "cell_type": "code",
   "execution_count": null,
   "id": "2bb0f114-0d50-490a-b18a-e99e6b0c1086",
   "metadata": {},
   "outputs": [],
   "source": [
    "s2 = '****I love China!****'"
   ]
  },
  {
   "cell_type": "code",
   "execution_count": null,
   "id": "494ec260-fdd9-4578-8704-0319458dbe17",
   "metadata": {},
   "outputs": [],
   "source": [
    "s2.lstrip('*')"
   ]
  },
  {
   "cell_type": "code",
   "execution_count": null,
   "id": "e76acd84-13e7-4cd7-a801-415f56f2972b",
   "metadata": {},
   "outputs": [],
   "source": [
    "s2.rstrip('*')"
   ]
  },
  {
   "cell_type": "markdown",
   "id": "5e544857-951d-45ed-bdcf-d7d0b00d0381",
   "metadata": {},
   "source": [
    "### 查找"
   ]
  },
  {
   "cell_type": "code",
   "execution_count": null,
   "id": "fd63b917-743c-4cf1-be27-bed410e67b70",
   "metadata": {},
   "outputs": [],
   "source": [
    "s3 = 'Python is an objected-oriented programming language'"
   ]
  },
  {
   "cell_type": "code",
   "execution_count": null,
   "id": "ea34cd56-d662-49b6-8769-02f9a18ccd85",
   "metadata": {},
   "outputs": [],
   "source": [
    "s3.find('o')"
   ]
  },
  {
   "cell_type": "code",
   "execution_count": null,
   "id": "7d474aa5-13fc-4b9f-a474-0cd87785a1f4",
   "metadata": {},
   "outputs": [],
   "source": [
    "s3.index('o')"
   ]
  },
  {
   "cell_type": "code",
   "execution_count": null,
   "id": "808ae664-c001-4ae3-b1f5-21b1c3c23dc4",
   "metadata": {},
   "outputs": [],
   "source": [
    "s3.index('o', 4)"
   ]
  },
  {
   "cell_type": "code",
   "execution_count": null,
   "id": "c5d10f04-e136-4636-9261-ca4f831478de",
   "metadata": {},
   "outputs": [],
   "source": [
    "s3.index('o', 5)"
   ]
  },
  {
   "cell_type": "code",
   "execution_count": null,
   "id": "c99f80b7-51e0-4578-abf8-22916d897bee",
   "metadata": {},
   "outputs": [],
   "source": [
    "s3.rfind('o')"
   ]
  },
  {
   "cell_type": "code",
   "execution_count": null,
   "id": "3f613fb1-479a-4ddc-a89c-9c1966b46c60",
   "metadata": {},
   "outputs": [],
   "source": [
    "s3.count('o')"
   ]
  },
  {
   "cell_type": "markdown",
   "id": "e9ecaafa-221f-4793-879f-57e94ad60714",
   "metadata": {},
   "source": [
    "### 拆分"
   ]
  },
  {
   "cell_type": "code",
   "execution_count": null,
   "id": "61e1da4c-31f3-4b66-8879-fa7ab31f877b",
   "metadata": {},
   "outputs": [],
   "source": [
    "s4 = 'Python is an objected-oriented programming language'"
   ]
  },
  {
   "cell_type": "code",
   "execution_count": null,
   "id": "98b0f23f-c44e-49b0-99cc-46bd10b52f02",
   "metadata": {},
   "outputs": [],
   "source": [
    "s4.split()"
   ]
  },
  {
   "cell_type": "code",
   "execution_count": null,
   "id": "d4f3596e-a571-40fe-9c3e-e58e98e79c83",
   "metadata": {},
   "outputs": [],
   "source": [
    "s4.split('o')"
   ]
  },
  {
   "cell_type": "code",
   "execution_count": null,
   "id": "b9c0df3e-4f3f-4f16-8ab8-5c2c809d56dd",
   "metadata": {},
   "outputs": [],
   "source": [
    "s4.split('o', 3)"
   ]
  },
  {
   "cell_type": "code",
   "execution_count": null,
   "id": "ad807707-94eb-457e-94ac-4445272b7b13",
   "metadata": {},
   "outputs": [],
   "source": [
    "s5 = 'I\\nlove\\nChina'\n",
    "s5"
   ]
  },
  {
   "cell_type": "code",
   "execution_count": null,
   "id": "b52b9932-5bdc-45cb-99ca-f2da94707f8f",
   "metadata": {},
   "outputs": [],
   "source": [
    "s5.split()"
   ]
  },
  {
   "cell_type": "code",
   "execution_count": null,
   "id": "f1dbe548-bf62-41aa-8632-a4ed9ceee7a2",
   "metadata": {},
   "outputs": [],
   "source": [
    "s5.splitlines()"
   ]
  },
  {
   "cell_type": "markdown",
   "id": "c52539a3-4ccd-407b-b0f6-075637ca3a5a",
   "metadata": {},
   "source": [
    "### 字符串的测试方法"
   ]
  },
  {
   "cell_type": "code",
   "execution_count": null,
   "id": "b327ba98-4d6b-43b4-89bd-c651a7e06ff9",
   "metadata": {},
   "outputs": [],
   "source": [
    "s6 = 'love'"
   ]
  },
  {
   "cell_type": "code",
   "execution_count": null,
   "id": "99d81220-0f11-44cd-ab4f-aaad06b7bff1",
   "metadata": {},
   "outputs": [],
   "source": [
    "s6.isdigit()"
   ]
  },
  {
   "cell_type": "markdown",
   "id": "5b9e4027-22ae-4998-b239-e5d1d5d8c575",
   "metadata": {},
   "source": [
    "### 字符串的填充对齐"
   ]
  },
  {
   "cell_type": "code",
   "execution_count": null,
   "id": "28d89aa1-7ff9-454d-b477-cbec05ea9d06",
   "metadata": {},
   "outputs": [],
   "source": [
    "s7 = 'Panda'"
   ]
  },
  {
   "cell_type": "code",
   "execution_count": null,
   "id": "f3fe5956-c585-487a-8027-edbee97cbedb",
   "metadata": {},
   "outputs": [],
   "source": [
    "s7.center(10, '*')"
   ]
  },
  {
   "cell_type": "code",
   "execution_count": null,
   "id": "ce5ed54c-1729-4899-8732-b500b56ace3c",
   "metadata": {},
   "outputs": [],
   "source": [
    "s7.center(10, ' ')"
   ]
  },
  {
   "cell_type": "code",
   "execution_count": null,
   "id": "0152deda-88ef-4b3f-a1e1-e9424b75138e",
   "metadata": {},
   "outputs": [],
   "source": [
    "s7.ljust(10, ' ')"
   ]
  },
  {
   "cell_type": "code",
   "execution_count": null,
   "id": "65750132-8b78-4ef9-804c-98ff97182455",
   "metadata": {},
   "outputs": [],
   "source": [
    "s7.rjust(10, '-')"
   ]
  },
  {
   "cell_type": "markdown",
   "id": "fdc55a76-152b-46a8-a0b1-111163670960",
   "metadata": {},
   "source": [
    "### 首尾部比较"
   ]
  },
  {
   "cell_type": "code",
   "execution_count": null,
   "id": "226c745d-fe5c-4c78-9c1c-eb383bcaa996",
   "metadata": {},
   "outputs": [],
   "source": [
    "s8 = 'See you again'"
   ]
  },
  {
   "cell_type": "code",
   "execution_count": null,
   "id": "e3c91754-7ccb-465e-9902-47a80b0271d3",
   "metadata": {},
   "outputs": [],
   "source": [
    "s8.startswith('See')"
   ]
  },
  {
   "cell_type": "code",
   "execution_count": null,
   "id": "48dc9cc1-c8a7-4bdc-8f09-e6f05ef638c8",
   "metadata": {},
   "outputs": [],
   "source": [
    "s8.endswith('again')"
   ]
  },
  {
   "cell_type": "markdown",
   "id": "5b7185f7-ef9f-4665-8d51-0a1c3b3c1bdf",
   "metadata": {},
   "source": [
    "### 拼接、取代"
   ]
  },
  {
   "cell_type": "code",
   "execution_count": null,
   "id": "732cca1e-9c8a-4f1b-a5e1-492b274020e9",
   "metadata": {},
   "outputs": [],
   "source": [
    "s9 = ['www', 'gdpu', 'edu', 'cn']"
   ]
  },
  {
   "cell_type": "code",
   "execution_count": null,
   "id": "508fb8cb-78b7-40da-8378-3f514adf262e",
   "metadata": {},
   "outputs": [],
   "source": [
    "'.'.join(s9)"
   ]
  },
  {
   "cell_type": "code",
   "execution_count": null,
   "id": "3c4a8fcb-4d5b-41d9-9195-d02ca8dade3f",
   "metadata": {},
   "outputs": [],
   "source": [
    "s9 = [\"www\", \"gdpu\", \"edu\", \"cn\"]\n",
    "'.'.join(s9)"
   ]
  },
  {
   "cell_type": "code",
   "execution_count": null,
   "id": "d5b92fbd-3ab8-4bde-9a07-17146e67e31b",
   "metadata": {},
   "outputs": [],
   "source": [
    "s10 = [str(i) for i in range(1, 6)]\n",
    "\"+\".join(s10)"
   ]
  },
  {
   "cell_type": "code",
   "execution_count": null,
   "id": "dc4ec971-b737-4241-b934-65a24c5f5012",
   "metadata": {},
   "outputs": [],
   "source": [
    "s11 = \"Love you\"\n",
    "s11.replace(\"you\", \"China\")"
   ]
  },
  {
   "cell_type": "markdown",
   "id": "b1509e68-3931-405b-ba72-c1d33fd3843a",
   "metadata": {},
   "source": [
    "## 字符串常量"
   ]
  },
  {
   "cell_type": "code",
   "execution_count": null,
   "id": "2e4b43a9-c0d3-47bc-9df9-bdb83d096eff",
   "metadata": {},
   "outputs": [],
   "source": [
    "import string"
   ]
  },
  {
   "cell_type": "code",
   "execution_count": null,
   "id": "2521bce9-bfb8-4358-a66d-711b18201bcf",
   "metadata": {},
   "outputs": [],
   "source": [
    "string.ascii_lowercase"
   ]
  },
  {
   "cell_type": "code",
   "execution_count": null,
   "id": "3441a929-8dd8-4d87-8ba0-e47296ffbc45",
   "metadata": {},
   "outputs": [],
   "source": [
    "string.ascii_uppercase"
   ]
  },
  {
   "cell_type": "code",
   "execution_count": null,
   "id": "323858a6-383d-44d0-a8df-7330aea4fc66",
   "metadata": {},
   "outputs": [],
   "source": [
    "string.ascii_letters"
   ]
  },
  {
   "cell_type": "code",
   "execution_count": null,
   "id": "08882982-6148-478b-ab15-48d7f605c867",
   "metadata": {},
   "outputs": [],
   "source": [
    "string.digits"
   ]
  },
  {
   "cell_type": "code",
   "execution_count": null,
   "id": "62bb6959-0de7-4890-b93f-6cb2d285dbea",
   "metadata": {},
   "outputs": [],
   "source": [
    "string.punctuation"
   ]
  },
  {
   "cell_type": "code",
   "execution_count": null,
   "id": "ffc83c0f-d65c-4f51-97dd-abdebf502dd9",
   "metadata": {},
   "outputs": [],
   "source": []
  }
 ],
 "metadata": {
  "kernelspec": {
   "display_name": "Python 3 (ipykernel)",
   "language": "python",
   "name": "python3"
  },
  "language_info": {
   "codemirror_mode": {
    "name": "ipython",
    "version": 3
   },
   "file_extension": ".py",
   "mimetype": "text/x-python",
   "name": "python",
   "nbconvert_exporter": "python",
   "pygments_lexer": "ipython3",
   "version": "3.9.12"
  }
 },
 "nbformat": 4,
 "nbformat_minor": 5
}
