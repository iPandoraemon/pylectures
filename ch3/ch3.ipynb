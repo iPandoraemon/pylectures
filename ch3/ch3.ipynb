{
 "cells": [
  {
   "cell_type": "markdown",
   "id": "607e1c7d-a30d-430b-8fe0-db88d6861e48",
   "metadata": {},
   "source": [
    "# 第3章 顺序结构\n",
    "\n",
    "1. Python程序编码规范\n",
    "2. 赋值语句\n",
    "3. 数据的输入/输出\n",
    "4. 顺序结构程序举例\n"
   ]
  },
  {
   "cell_type": "markdown",
   "id": "0c3f5ee3-9181-4340-8aa3-7278fb4578f6",
   "metadata": {},
   "source": [
    "## 1. Python程序编码规范\n",
    "\n"
   ]
  },
  {
   "cell_type": "code",
   "execution_count": null,
   "id": "d1757d3a-9d8b-49b5-bff9-df8bbd036251",
   "metadata": {},
   "outputs": [],
   "source": [
    "\"\"\"多行注释第一行\n",
    "多行注释第二行\n",
    "多行注释第三行\"\"\"\n",
    "def add(a):               # 函数定义语句\n",
    "    b = eval(input(\"\"))   # 输入语句\n",
    "    c = 1                 # 赋值语句\n",
    "    if b<0:\n",
    "        print(\"Input must be bigger than 0!\")\n",
    "    else:\n",
    "        d = a+b+c\n",
    "    return d              # 函数返回语句\n",
    "\n",
    "x = add(5)                # 调用自定义函数add()\n",
    "print(x)                  # 输出变量x\n"
   ]
  },
  {
   "cell_type": "markdown",
   "id": "11bf4a5b-2c46-4d96-b036-c5ddc23c1910",
   "metadata": {},
   "source": [
    "## 2. 内置函数format()"
   ]
  },
  {
   "cell_type": "markdown",
   "id": "3c1010ee-ed09-43df-8565-bd073c5b86d6",
   "metadata": {},
   "source": [
    "十进制、二进制、八进制、十六进制：\n",
    "$d, b, o, x/X$"
   ]
  },
  {
   "cell_type": "code",
   "execution_count": 2,
   "id": "8c452822-fe9b-4b3a-841e-3fcb31f1d752",
   "metadata": {},
   "outputs": [
    {
     "name": "stdout",
     "output_type": "stream",
     "text": [
      "5f 137 1011111\n"
     ]
    }
   ],
   "source": [
    "print(format(95, 'x'), format(95, 'o'), format(95, 'b'))"
   ]
  },
  {
   "cell_type": "markdown",
   "id": "dcea7c8c-5942-4de9-88d8-8563f0355da1",
   "metadata": {},
   "source": [
    "浮点数：f/F, e/E, g/G"
   ]
  },
  {
   "cell_type": "code",
   "execution_count": 5,
   "id": "6838ef9d-779e-4d45-bea1-bd0b65abc073",
   "metadata": {},
   "outputs": [
    {
     "name": "stdout",
     "output_type": "stream",
     "text": [
      "1.622819e+02 162.282 162.281930\n",
      "31,416.123000\n"
     ]
    }
   ],
   "source": [
    "print(format(162.28193, 'e'), format(162.28193, 'g'), format(162.28193, 'f'))\n",
    "print(format(31416.123, ',f'))"
   ]
  },
  {
   "cell_type": "markdown",
   "id": "6c18a9d7-5fd2-4b88-9ef4-4c4e7418c5bc",
   "metadata": {},
   "source": []
  }
 ],
 "metadata": {
  "kernelspec": {
   "display_name": "Python 3 (ipykernel)",
   "language": "python",
   "name": "python3"
  },
  "language_info": {
   "codemirror_mode": {
    "name": "ipython",
    "version": 3
   },
   "file_extension": ".py",
   "mimetype": "text/x-python",
   "name": "python",
   "nbconvert_exporter": "python",
   "pygments_lexer": "ipython3",
   "version": "3.9.12"
  }
 },
 "nbformat": 4,
 "nbformat_minor": 5
}
