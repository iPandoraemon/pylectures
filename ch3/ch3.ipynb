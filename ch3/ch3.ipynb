{
 "cells": [
  {
   "cell_type": "markdown",
   "id": "607e1c7d-a30d-430b-8fe0-db88d6861e48",
   "metadata": {},
   "source": [
    "# 第3章 顺序结构\n",
    "\n",
    "1. Python程序编码规范\n",
    "2. 赋值语句\n",
    "3. 数据的输入/输出\n",
    "4. 顺序结构程序举例\n"
   ]
  },
  {
   "cell_type": "markdown",
   "id": "0c3f5ee3-9181-4340-8aa3-7278fb4578f6",
   "metadata": {},
   "source": [
    "## 1. Python程序编码规范\n",
    "\n"
   ]
  },
  {
   "cell_type": "code",
   "execution_count": null,
   "id": "d1757d3a-9d8b-49b5-bff9-df8bbd036251",
   "metadata": {},
   "outputs": [],
   "source": [
    "\"\"\"多行注释第一行\n",
    "多行注释第二行\n",
    "多行注释第三行\"\"\"\n",
    "def add(a):               # 函数定义语句\n",
    "    b = eval(input(\"\"))   # 输入语句\n",
    "    c = 1                 # 赋值语句\n",
    "    if b<0:\n",
    "        print(\"Input must be bigger than 0!\")\n",
    "    else:\n",
    "        d = a+b+c\n",
    "    return d              # 函数返回语句\n",
    "\n",
    "x = add(5)                # 调用自定义函数add()\n",
    "print(x)                  # 输出变量x\n"
   ]
  },
  {
   "cell_type": "code",
   "execution_count": null,
   "id": "f57469aa-b685-40f5-8473-4cd0c07c3ec1",
   "metadata": {},
   "outputs": [],
   "source": []
  }
 ],
 "metadata": {
  "kernelspec": {
   "display_name": "Python 3 (ipykernel)",
   "language": "python",
   "name": "python3"
  },
  "language_info": {
   "codemirror_mode": {
    "name": "ipython",
    "version": 3
   },
   "file_extension": ".py",
   "mimetype": "text/x-python",
   "name": "python",
   "nbconvert_exporter": "python",
   "pygments_lexer": "ipython3",
   "version": "3.9.12"
  }
 },
 "nbformat": 4,
 "nbformat_minor": 5
}
